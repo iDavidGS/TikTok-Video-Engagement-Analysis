{
 "cells": [
  {
   "cell_type": "markdown",
   "metadata": {
    "id": "DtNBZFHO3M7n"
   },
   "source": [
    "# **TikTok Project**\n",
    "**Lab 5 - The Nuts and bolts of machine learning**"
   ]
  },
  {
   "cell_type": "markdown",
   "metadata": {
    "id": "Uj7uL90rosR4"
   },
   "source": [
    "# **Classify videos using machine learning**"
   ]
  },
  {
   "cell_type": "markdown",
   "metadata": {
    "id": "NzDjfCSLf6Jq"
   },
   "source": [
    "# **PACE stages**\n"
   ]
  },
  {
   "cell_type": "markdown",
   "metadata": {
    "id": "-svprBfKpAKf"
   },
   "source": [
    "Throughout these project notebooks, you'll see references to the problem-solving framework PACE. The following notebook components are labeled with the respective PACE stage: Plan, Analyze, Construct, and Execute."
   ]
  },
  {
   "cell_type": "markdown",
   "metadata": {
    "id": "E5g1A74r0ow_"
   },
   "source": [
    "## **PACE: Plan**\n",
    "\n",
    "Consider the questions in the PACE Strategy Document to reflect on the Plan stage.\n",
    "\n",
    "In this stage, consider the following questions:\n",
    "\n",
    "\n",
    "1.   **What are you being asked to do? What metric should I use to evaluate success of my business/organizational objective?**\n",
    "\n",
    "2.   **What are the ethical implications of the model? What are the consequences of your model making errors?**\n",
    "  *   What is the likely effect of the model when it predicts a false negative (i.e., when the model says a video does not contain a claim and it actually does)?\n",
    "\n",
    "  *   What is the likely effect of the model when it predicts a false positive (i.e., when the model says a video does contain a claim and it actually does not)?\n",
    "\n",
    "3.   **How would you proceed?**\n"
   ]
  },
  {
   "cell_type": "markdown",
   "metadata": {
    "id": "JX669CyACLtt"
   },
   "source": [
    "\r\n",
    "In this final phase of the TikTok Video Engagement Analysis proje  te focused on refining our model to ensure it aligns with the business objectives and meets the required ethical standardsI'll evaluate the model's performance, address any potential biases, and implement necessary improvements to achieve reliable and accurate predictions. Here are the detailed considerations:\r\n",
    "\r\n",
    "**What are you being asked to do? What metric should I use to evaluate the success of my business/organizational objective?**\r\n",
    "\r\n",
    "In this final phase, the primary objective is to refine and enhance the model developed in previous phases to ensure it aligns with the business needs. SpecificaIy, we need to assess the accuracy, precision, recall, and F1-score of the model to ensure it effectively identifies and classifies video content. The evaluation metrics for success will focus on the accuracy and the balance between precision and recall, as this will determine the model's capability to correctly identify videos with claims while minimizing false positives and negatives.\r\n",
    "\r\n",
    "**What are the ethical implications of the model? What are the consequences of your model making errors?**\r\n",
    "\r\n",
    "The ethical implications of the model are significant as it directly affects content creators and viewers. Errors in the model can lead to the misclassification of videos, which might result in the inappropriate flagging or removal of content. This could suppress genuine claims or falsely promote non-claim content, leading to misinformation or undue penalization of users. Additionally, ethical considerations include ensuring fairness and avoiding biases in the model to prevent discrimination against specific user groups.\r\n",
    "\r\n",
    "**What is the likely effect of the model when it predicts a false negative (i.e., when the model says a video does not contain a claim and it actually does)?**\r\n",
    "\r\n",
    "When the model predicts a false negative, it means that a video containing a legitimate claim is not recognized as such. This can lead to significant consequences, including the failure to address genuine issues or complaints, leading to user dissatisfaction and potential harm if the claims involve critical information. It undermines the trust users have in the platform's ability to monitor and address important content accurately.\r\n",
    "\r\n",
    "**What is the likely effect of the model when it predicts a false positive (i.e., when the model says a video does contain a claim and it actually does not)?**\r\n",
    "\r\n",
    "A false positive prediction indicates that a video is incorrectly classified as containing a claim when it does not. This can result in the unwarranted suppression of content, negatively affecting user engagement and potentially causing frustration among content creators who may feel unfairly targeted. It can also dilute the attention given to genuine claims, as users might become skeptical of the claim classification.\r\n",
    "\r\n",
    "**How would you proceed?**\r\n",
    "\r\n",
    "To proceed, the focus should be on improving the model's precision and recall to balance the trade-off between false positives and false negatives. This can involve:\r\n",
    "\r\n",
    "1. **Feature Engineering:** Enhancing the dataset with additional relevant features that can improve model performance.\r\n",
    "2. **Model Tuning:** Using hyperparameter tuning to optimize the model for better accuracy and reliability.\r\n",
    "3. **Validation:** Implementing robust validation techniques to ensure the model generalizes well to unseen data.\r\n",
    "4. **Bias Mitigation:** Ensuring the model is checked for biases and implementing measures to mitigate any detected biases.\r\n",
    "5. **Ethical Oversight:** Regularly reviewing the model's ethical implications and making adjustments as needed to ensure fairness and transparency.\r\n",
    "\r\n",
    "These steps will help in creating a more accurate and reliable model that aligns with the business objectives and ethical standards.\r\n"
   ]
  },
  {
   "cell_type": "markdown",
   "metadata": {
    "id": "e8Vm3QEfGELS"
   },
   "source": [
    "### **Task 1. Imports and data loading**"
   ]
  },
  {
   "cell_type": "code",
   "execution_count": 1,
   "metadata": {
    "id": "tCni9wAGphb0"
   },
   "outputs": [],
   "source": [
    "# Import packages for data manipulation\n",
    "import pandas as pd\n",
    "import numpy as np\n",
    "\n",
    "# Import packages for data visualization\n",
    "import matplotlib.pyplot as plt\n",
    "import seaborn as sns\n",
    "\n",
    "# Import packages for data preprocessing\n",
    "from sklearn.model_selection import train_test_split\n",
    "from sklearn.preprocessing import StandardScaler, OneHotEncoder\n",
    "\n",
    "# Import packages for data modeling\n",
    "from sklearn.linear_model import LogisticRegression\n",
    "from sklearn.metrics import classification_report, confusion_matrix, ConfusionMatrixDisplay\n",
    "from sklearn.ensemble import RandomForestClassifier\n",
    "from sklearn.model_selection import GridSearchCV\n",
    "from sklearn.metrics import make_scorer, recall_score, precision_score\n",
    "from xgboost import XGBClassifier\n"
   ]
  },
  {
   "cell_type": "code",
   "execution_count": 2,
   "metadata": {
    "id": "C9ODhaOppqlw"
   },
   "outputs": [],
   "source": [
    "# Load dataset into dataframe\n",
    "df = pd.read_csv(\"tiktok_dataset.csv\")\n"
   ]
  },
  {
   "cell_type": "markdown",
   "metadata": {
    "id": "EgPRBjizg1oo"
   },
   "source": [
    "## **PACE: Analyze**\n",
    "\n",
    "Consider the questions in the PACE Strategy Document to reflect on the Analyze stage."
   ]
  },
  {
   "cell_type": "markdown",
   "metadata": {
    "id": "TYtBhb2zR54G"
   },
   "source": [
    "### **Task 2: Examine data, summary info, and descriptive stats**"
   ]
  },
  {
   "cell_type": "code",
   "execution_count": 3,
   "metadata": {
    "id": "2rfk95MLp4a_"
   },
   "outputs": [
    {
     "data": {
      "text/html": [
       "<div>\n",
       "<style scoped>\n",
       "    .dataframe tbody tr th:only-of-type {\n",
       "        vertical-align: middle;\n",
       "    }\n",
       "\n",
       "    .dataframe tbody tr th {\n",
       "        vertical-align: top;\n",
       "    }\n",
       "\n",
       "    .dataframe thead th {\n",
       "        text-align: right;\n",
       "    }\n",
       "</style>\n",
       "<table border=\"1\" class=\"dataframe\">\n",
       "  <thead>\n",
       "    <tr style=\"text-align: right;\">\n",
       "      <th></th>\n",
       "      <th>#</th>\n",
       "      <th>claim_status</th>\n",
       "      <th>video_id</th>\n",
       "      <th>video_duration_sec</th>\n",
       "      <th>video_transcription_text</th>\n",
       "      <th>verified_status</th>\n",
       "      <th>author_ban_status</th>\n",
       "      <th>video_view_count</th>\n",
       "      <th>video_like_count</th>\n",
       "      <th>video_share_count</th>\n",
       "      <th>video_download_count</th>\n",
       "      <th>video_comment_count</th>\n",
       "    </tr>\n",
       "  </thead>\n",
       "  <tbody>\n",
       "    <tr>\n",
       "      <th>0</th>\n",
       "      <td>1</td>\n",
       "      <td>claim</td>\n",
       "      <td>7017666017</td>\n",
       "      <td>59</td>\n",
       "      <td>someone shared with me that drone deliveries a...</td>\n",
       "      <td>not verified</td>\n",
       "      <td>under review</td>\n",
       "      <td>343296.0</td>\n",
       "      <td>19425.0</td>\n",
       "      <td>241.0</td>\n",
       "      <td>1.0</td>\n",
       "      <td>0.0</td>\n",
       "    </tr>\n",
       "    <tr>\n",
       "      <th>1</th>\n",
       "      <td>2</td>\n",
       "      <td>claim</td>\n",
       "      <td>4014381136</td>\n",
       "      <td>32</td>\n",
       "      <td>someone shared with me that there are more mic...</td>\n",
       "      <td>not verified</td>\n",
       "      <td>active</td>\n",
       "      <td>140877.0</td>\n",
       "      <td>77355.0</td>\n",
       "      <td>19034.0</td>\n",
       "      <td>1161.0</td>\n",
       "      <td>684.0</td>\n",
       "    </tr>\n",
       "    <tr>\n",
       "      <th>2</th>\n",
       "      <td>3</td>\n",
       "      <td>claim</td>\n",
       "      <td>9859838091</td>\n",
       "      <td>31</td>\n",
       "      <td>someone shared with me that american industria...</td>\n",
       "      <td>not verified</td>\n",
       "      <td>active</td>\n",
       "      <td>902185.0</td>\n",
       "      <td>97690.0</td>\n",
       "      <td>2858.0</td>\n",
       "      <td>833.0</td>\n",
       "      <td>329.0</td>\n",
       "    </tr>\n",
       "    <tr>\n",
       "      <th>3</th>\n",
       "      <td>4</td>\n",
       "      <td>claim</td>\n",
       "      <td>1866847991</td>\n",
       "      <td>25</td>\n",
       "      <td>someone shared with me that the metro of st. p...</td>\n",
       "      <td>not verified</td>\n",
       "      <td>active</td>\n",
       "      <td>437506.0</td>\n",
       "      <td>239954.0</td>\n",
       "      <td>34812.0</td>\n",
       "      <td>1234.0</td>\n",
       "      <td>584.0</td>\n",
       "    </tr>\n",
       "    <tr>\n",
       "      <th>4</th>\n",
       "      <td>5</td>\n",
       "      <td>claim</td>\n",
       "      <td>7105231098</td>\n",
       "      <td>19</td>\n",
       "      <td>someone shared with me that the number of busi...</td>\n",
       "      <td>not verified</td>\n",
       "      <td>active</td>\n",
       "      <td>56167.0</td>\n",
       "      <td>34987.0</td>\n",
       "      <td>4110.0</td>\n",
       "      <td>547.0</td>\n",
       "      <td>152.0</td>\n",
       "    </tr>\n",
       "  </tbody>\n",
       "</table>\n",
       "</div>"
      ],
      "text/plain": [
       "   # claim_status    video_id  video_duration_sec  \\\n",
       "0  1        claim  7017666017                  59   \n",
       "1  2        claim  4014381136                  32   \n",
       "2  3        claim  9859838091                  31   \n",
       "3  4        claim  1866847991                  25   \n",
       "4  5        claim  7105231098                  19   \n",
       "\n",
       "                            video_transcription_text verified_status  \\\n",
       "0  someone shared with me that drone deliveries a...    not verified   \n",
       "1  someone shared with me that there are more mic...    not verified   \n",
       "2  someone shared with me that american industria...    not verified   \n",
       "3  someone shared with me that the metro of st. p...    not verified   \n",
       "4  someone shared with me that the number of busi...    not verified   \n",
       "\n",
       "  author_ban_status  video_view_count  video_like_count  video_share_count  \\\n",
       "0      under review          343296.0           19425.0              241.0   \n",
       "1            active          140877.0           77355.0            19034.0   \n",
       "2            active          902185.0           97690.0             2858.0   \n",
       "3            active          437506.0          239954.0            34812.0   \n",
       "4            active           56167.0           34987.0             4110.0   \n",
       "\n",
       "   video_download_count  video_comment_count  \n",
       "0                   1.0                  0.0  \n",
       "1                1161.0                684.0  \n",
       "2                 833.0                329.0  \n",
       "3                1234.0                584.0  \n",
       "4                 547.0                152.0  "
      ]
     },
     "execution_count": 3,
     "metadata": {},
     "output_type": "execute_result"
    }
   ],
   "source": [
    "# Display first few rows\n",
    "df.head()\n"
   ]
  },
  {
   "cell_type": "code",
   "execution_count": 4,
   "metadata": {
    "id": "kYwW-G1WqX3R"
   },
   "outputs": [
    {
     "data": {
      "text/plain": [
       "(19382, 12)"
      ]
     },
     "execution_count": 4,
     "metadata": {},
     "output_type": "execute_result"
    }
   ],
   "source": [
    "# Get number of rows and columns\n",
    "df.shape\n"
   ]
  },
  {
   "cell_type": "code",
   "execution_count": 5,
   "metadata": {
    "id": "rbpDgrXfEoVj"
   },
   "outputs": [
    {
     "data": {
      "text/plain": [
       "#                             int64\n",
       "claim_status                 object\n",
       "video_id                      int64\n",
       "video_duration_sec            int64\n",
       "video_transcription_text     object\n",
       "verified_status              object\n",
       "author_ban_status            object\n",
       "video_view_count            float64\n",
       "video_like_count            float64\n",
       "video_share_count           float64\n",
       "video_download_count        float64\n",
       "video_comment_count         float64\n",
       "dtype: object"
      ]
     },
     "execution_count": 5,
     "metadata": {},
     "output_type": "execute_result"
    }
   ],
   "source": [
    "# Get data types of columns\n",
    "df.dtypes\n"
   ]
  },
  {
   "cell_type": "markdown",
   "metadata": {
    "id": "URuRVjUZ_Axg"
   },
   "source": [
    "Get basic information about the dataset."
   ]
  },
  {
   "cell_type": "code",
   "execution_count": 6,
   "metadata": {
    "id": "zyyKCGzCp7SS"
   },
   "outputs": [
    {
     "name": "stdout",
     "output_type": "stream",
     "text": [
      "<class 'pandas.core.frame.DataFrame'>\n",
      "RangeIndex: 19382 entries, 0 to 19381\n",
      "Data columns (total 12 columns):\n",
      " #   Column                    Non-Null Count  Dtype  \n",
      "---  ------                    --------------  -----  \n",
      " 0   #                         19382 non-null  int64  \n",
      " 1   claim_status              19084 non-null  object \n",
      " 2   video_id                  19382 non-null  int64  \n",
      " 3   video_duration_sec        19382 non-null  int64  \n",
      " 4   video_transcription_text  19084 non-null  object \n",
      " 5   verified_status           19382 non-null  object \n",
      " 6   author_ban_status         19382 non-null  object \n",
      " 7   video_view_count          19084 non-null  float64\n",
      " 8   video_like_count          19084 non-null  float64\n",
      " 9   video_share_count         19084 non-null  float64\n",
      " 10  video_download_count      19084 non-null  float64\n",
      " 11  video_comment_count       19084 non-null  float64\n",
      "dtypes: float64(5), int64(3), object(4)\n",
      "memory usage: 1.8+ MB\n"
     ]
    }
   ],
   "source": [
    "# Get basic information\n",
    "df.info()\n"
   ]
  },
  {
   "cell_type": "code",
   "execution_count": 7,
   "metadata": {
    "id": "HbpuAS2UqY01"
   },
   "outputs": [
    {
     "data": {
      "text/html": [
       "<div>\n",
       "<style scoped>\n",
       "    .dataframe tbody tr th:only-of-type {\n",
       "        vertical-align: middle;\n",
       "    }\n",
       "\n",
       "    .dataframe tbody tr th {\n",
       "        vertical-align: top;\n",
       "    }\n",
       "\n",
       "    .dataframe thead th {\n",
       "        text-align: right;\n",
       "    }\n",
       "</style>\n",
       "<table border=\"1\" class=\"dataframe\">\n",
       "  <thead>\n",
       "    <tr style=\"text-align: right;\">\n",
       "      <th></th>\n",
       "      <th>#</th>\n",
       "      <th>video_id</th>\n",
       "      <th>video_duration_sec</th>\n",
       "      <th>video_view_count</th>\n",
       "      <th>video_like_count</th>\n",
       "      <th>video_share_count</th>\n",
       "      <th>video_download_count</th>\n",
       "      <th>video_comment_count</th>\n",
       "    </tr>\n",
       "  </thead>\n",
       "  <tbody>\n",
       "    <tr>\n",
       "      <th>count</th>\n",
       "      <td>19382.000000</td>\n",
       "      <td>1.938200e+04</td>\n",
       "      <td>19382.000000</td>\n",
       "      <td>19084.000000</td>\n",
       "      <td>19084.000000</td>\n",
       "      <td>19084.000000</td>\n",
       "      <td>19084.000000</td>\n",
       "      <td>19084.000000</td>\n",
       "    </tr>\n",
       "    <tr>\n",
       "      <th>mean</th>\n",
       "      <td>9691.500000</td>\n",
       "      <td>5.627454e+09</td>\n",
       "      <td>32.421732</td>\n",
       "      <td>254708.558688</td>\n",
       "      <td>84304.636030</td>\n",
       "      <td>16735.248323</td>\n",
       "      <td>1049.429627</td>\n",
       "      <td>349.312146</td>\n",
       "    </tr>\n",
       "    <tr>\n",
       "      <th>std</th>\n",
       "      <td>5595.245794</td>\n",
       "      <td>2.536440e+09</td>\n",
       "      <td>16.229967</td>\n",
       "      <td>322893.280814</td>\n",
       "      <td>133420.546814</td>\n",
       "      <td>32036.174350</td>\n",
       "      <td>2004.299894</td>\n",
       "      <td>799.638865</td>\n",
       "    </tr>\n",
       "    <tr>\n",
       "      <th>min</th>\n",
       "      <td>1.000000</td>\n",
       "      <td>1.234959e+09</td>\n",
       "      <td>5.000000</td>\n",
       "      <td>20.000000</td>\n",
       "      <td>0.000000</td>\n",
       "      <td>0.000000</td>\n",
       "      <td>0.000000</td>\n",
       "      <td>0.000000</td>\n",
       "    </tr>\n",
       "    <tr>\n",
       "      <th>25%</th>\n",
       "      <td>4846.250000</td>\n",
       "      <td>3.430417e+09</td>\n",
       "      <td>18.000000</td>\n",
       "      <td>4942.500000</td>\n",
       "      <td>810.750000</td>\n",
       "      <td>115.000000</td>\n",
       "      <td>7.000000</td>\n",
       "      <td>1.000000</td>\n",
       "    </tr>\n",
       "    <tr>\n",
       "      <th>50%</th>\n",
       "      <td>9691.500000</td>\n",
       "      <td>5.618664e+09</td>\n",
       "      <td>32.000000</td>\n",
       "      <td>9954.500000</td>\n",
       "      <td>3403.500000</td>\n",
       "      <td>717.000000</td>\n",
       "      <td>46.000000</td>\n",
       "      <td>9.000000</td>\n",
       "    </tr>\n",
       "    <tr>\n",
       "      <th>75%</th>\n",
       "      <td>14536.750000</td>\n",
       "      <td>7.843960e+09</td>\n",
       "      <td>47.000000</td>\n",
       "      <td>504327.000000</td>\n",
       "      <td>125020.000000</td>\n",
       "      <td>18222.000000</td>\n",
       "      <td>1156.250000</td>\n",
       "      <td>292.000000</td>\n",
       "    </tr>\n",
       "    <tr>\n",
       "      <th>max</th>\n",
       "      <td>19382.000000</td>\n",
       "      <td>9.999873e+09</td>\n",
       "      <td>60.000000</td>\n",
       "      <td>999817.000000</td>\n",
       "      <td>657830.000000</td>\n",
       "      <td>256130.000000</td>\n",
       "      <td>14994.000000</td>\n",
       "      <td>9599.000000</td>\n",
       "    </tr>\n",
       "  </tbody>\n",
       "</table>\n",
       "</div>"
      ],
      "text/plain": [
       "                  #      video_id  video_duration_sec  video_view_count  \\\n",
       "count  19382.000000  1.938200e+04        19382.000000      19084.000000   \n",
       "mean    9691.500000  5.627454e+09           32.421732     254708.558688   \n",
       "std     5595.245794  2.536440e+09           16.229967     322893.280814   \n",
       "min        1.000000  1.234959e+09            5.000000         20.000000   \n",
       "25%     4846.250000  3.430417e+09           18.000000       4942.500000   \n",
       "50%     9691.500000  5.618664e+09           32.000000       9954.500000   \n",
       "75%    14536.750000  7.843960e+09           47.000000     504327.000000   \n",
       "max    19382.000000  9.999873e+09           60.000000     999817.000000   \n",
       "\n",
       "       video_like_count  video_share_count  video_download_count  \\\n",
       "count      19084.000000       19084.000000          19084.000000   \n",
       "mean       84304.636030       16735.248323           1049.429627   \n",
       "std       133420.546814       32036.174350           2004.299894   \n",
       "min            0.000000           0.000000              0.000000   \n",
       "25%          810.750000         115.000000              7.000000   \n",
       "50%         3403.500000         717.000000             46.000000   \n",
       "75%       125020.000000       18222.000000           1156.250000   \n",
       "max       657830.000000      256130.000000          14994.000000   \n",
       "\n",
       "       video_comment_count  \n",
       "count         19084.000000  \n",
       "mean            349.312146  \n",
       "std             799.638865  \n",
       "min               0.000000  \n",
       "25%               1.000000  \n",
       "50%               9.000000  \n",
       "75%             292.000000  \n",
       "max            9599.000000  "
      ]
     },
     "execution_count": 7,
     "metadata": {},
     "output_type": "execute_result"
    }
   ],
   "source": [
    "# Generate basic descriptive stats\n",
    "df.describe()\n"
   ]
  },
  {
   "cell_type": "code",
   "execution_count": 8,
   "metadata": {
    "id": "BrunHcfa7xnT"
   },
   "outputs": [
    {
     "name": "stdout",
     "output_type": "stream",
     "text": [
      "#                             0\n",
      "claim_status                298\n",
      "video_id                      0\n",
      "video_duration_sec            0\n",
      "video_transcription_text    298\n",
      "verified_status               0\n",
      "author_ban_status             0\n",
      "video_view_count            298\n",
      "video_like_count            298\n",
      "video_share_count           298\n",
      "video_download_count        298\n",
      "video_comment_count         298\n",
      "dtype: int64\n"
     ]
    }
   ],
   "source": [
    "# Check for missing values\n",
    "missing_values = df.isnull().sum()\n",
    "print(missing_values)\n"
   ]
  },
  {
   "cell_type": "code",
   "execution_count": 9,
   "metadata": {
    "id": "SHSj1Hma914I"
   },
   "outputs": [],
   "source": [
    "# Drop rows with missing values\n",
    "df_cleaned = df.dropna()\n"
   ]
  },
  {
   "cell_type": "code",
   "execution_count": 10,
   "metadata": {
    "id": "ZYUF3xap9_Fa"
   },
   "outputs": [
    {
     "data": {
      "text/html": [
       "<div>\n",
       "<style scoped>\n",
       "    .dataframe tbody tr th:only-of-type {\n",
       "        vertical-align: middle;\n",
       "    }\n",
       "\n",
       "    .dataframe tbody tr th {\n",
       "        vertical-align: top;\n",
       "    }\n",
       "\n",
       "    .dataframe thead th {\n",
       "        text-align: right;\n",
       "    }\n",
       "</style>\n",
       "<table border=\"1\" class=\"dataframe\">\n",
       "  <thead>\n",
       "    <tr style=\"text-align: right;\">\n",
       "      <th></th>\n",
       "      <th>#</th>\n",
       "      <th>claim_status</th>\n",
       "      <th>video_id</th>\n",
       "      <th>video_duration_sec</th>\n",
       "      <th>video_transcription_text</th>\n",
       "      <th>verified_status</th>\n",
       "      <th>author_ban_status</th>\n",
       "      <th>video_view_count</th>\n",
       "      <th>video_like_count</th>\n",
       "      <th>video_share_count</th>\n",
       "      <th>video_download_count</th>\n",
       "      <th>video_comment_count</th>\n",
       "    </tr>\n",
       "  </thead>\n",
       "  <tbody>\n",
       "    <tr>\n",
       "      <th>0</th>\n",
       "      <td>1</td>\n",
       "      <td>claim</td>\n",
       "      <td>7017666017</td>\n",
       "      <td>59</td>\n",
       "      <td>someone shared with me that drone deliveries a...</td>\n",
       "      <td>not verified</td>\n",
       "      <td>under review</td>\n",
       "      <td>343296.0</td>\n",
       "      <td>19425.0</td>\n",
       "      <td>241.0</td>\n",
       "      <td>1.0</td>\n",
       "      <td>0.0</td>\n",
       "    </tr>\n",
       "    <tr>\n",
       "      <th>1</th>\n",
       "      <td>2</td>\n",
       "      <td>claim</td>\n",
       "      <td>4014381136</td>\n",
       "      <td>32</td>\n",
       "      <td>someone shared with me that there are more mic...</td>\n",
       "      <td>not verified</td>\n",
       "      <td>active</td>\n",
       "      <td>140877.0</td>\n",
       "      <td>77355.0</td>\n",
       "      <td>19034.0</td>\n",
       "      <td>1161.0</td>\n",
       "      <td>684.0</td>\n",
       "    </tr>\n",
       "    <tr>\n",
       "      <th>2</th>\n",
       "      <td>3</td>\n",
       "      <td>claim</td>\n",
       "      <td>9859838091</td>\n",
       "      <td>31</td>\n",
       "      <td>someone shared with me that american industria...</td>\n",
       "      <td>not verified</td>\n",
       "      <td>active</td>\n",
       "      <td>902185.0</td>\n",
       "      <td>97690.0</td>\n",
       "      <td>2858.0</td>\n",
       "      <td>833.0</td>\n",
       "      <td>329.0</td>\n",
       "    </tr>\n",
       "    <tr>\n",
       "      <th>3</th>\n",
       "      <td>4</td>\n",
       "      <td>claim</td>\n",
       "      <td>1866847991</td>\n",
       "      <td>25</td>\n",
       "      <td>someone shared with me that the metro of st. p...</td>\n",
       "      <td>not verified</td>\n",
       "      <td>active</td>\n",
       "      <td>437506.0</td>\n",
       "      <td>239954.0</td>\n",
       "      <td>34812.0</td>\n",
       "      <td>1234.0</td>\n",
       "      <td>584.0</td>\n",
       "    </tr>\n",
       "    <tr>\n",
       "      <th>4</th>\n",
       "      <td>5</td>\n",
       "      <td>claim</td>\n",
       "      <td>7105231098</td>\n",
       "      <td>19</td>\n",
       "      <td>someone shared with me that the number of busi...</td>\n",
       "      <td>not verified</td>\n",
       "      <td>active</td>\n",
       "      <td>56167.0</td>\n",
       "      <td>34987.0</td>\n",
       "      <td>4110.0</td>\n",
       "      <td>547.0</td>\n",
       "      <td>152.0</td>\n",
       "    </tr>\n",
       "  </tbody>\n",
       "</table>\n",
       "</div>"
      ],
      "text/plain": [
       "   # claim_status    video_id  video_duration_sec  \\\n",
       "0  1        claim  7017666017                  59   \n",
       "1  2        claim  4014381136                  32   \n",
       "2  3        claim  9859838091                  31   \n",
       "3  4        claim  1866847991                  25   \n",
       "4  5        claim  7105231098                  19   \n",
       "\n",
       "                            video_transcription_text verified_status  \\\n",
       "0  someone shared with me that drone deliveries a...    not verified   \n",
       "1  someone shared with me that there are more mic...    not verified   \n",
       "2  someone shared with me that american industria...    not verified   \n",
       "3  someone shared with me that the metro of st. p...    not verified   \n",
       "4  someone shared with me that the number of busi...    not verified   \n",
       "\n",
       "  author_ban_status  video_view_count  video_like_count  video_share_count  \\\n",
       "0      under review          343296.0           19425.0              241.0   \n",
       "1            active          140877.0           77355.0            19034.0   \n",
       "2            active          902185.0           97690.0             2858.0   \n",
       "3            active          437506.0          239954.0            34812.0   \n",
       "4            active           56167.0           34987.0             4110.0   \n",
       "\n",
       "   video_download_count  video_comment_count  \n",
       "0                   1.0                  0.0  \n",
       "1                1161.0                684.0  \n",
       "2                 833.0                329.0  \n",
       "3                1234.0                584.0  \n",
       "4                 547.0                152.0  "
      ]
     },
     "execution_count": 10,
     "metadata": {},
     "output_type": "execute_result"
    }
   ],
   "source": [
    "# Display first few rows after handling missing values\n",
    "df_cleaned.head()\n"
   ]
  },
  {
   "cell_type": "code",
   "execution_count": 11,
   "metadata": {
    "id": "IKaGnWIsiHpH"
   },
   "outputs": [
    {
     "name": "stdout",
     "output_type": "stream",
     "text": [
      "Number of duplicated rows: 0\n"
     ]
    }
   ],
   "source": [
    "# Check for duplicates\n",
    "duplicates = df_cleaned.duplicated().sum()\n",
    "print(f\"Number of duplicated rows: {duplicates}\")\n"
   ]
  },
  {
   "cell_type": "code",
   "execution_count": 12,
   "metadata": {
    "id": "bZS2-0qEPbN6"
   },
   "outputs": [],
   "source": [
    "# Check for and handle outliers\n",
    "# IQR method for outlier detection in numerical columns\n",
    "\n",
    "numerical_columns = df_cleaned.select_dtypes(include=['float64', 'int64']).columns\n",
    "\n",
    "for column in numerical_columns:\n",
    "    Q1 = df_cleaned[column].quantile(0.25)\n",
    "    Q3 = df_cleaned[column].quantile(0.75)\n",
    "    IQR = Q3 - Q1\n",
    "    lower_bound = Q1 - 1.5 * IQR\n",
    "    upper_bound = Q3 + 1.5 * IQR\n",
    "    df_cleaned = df_cleaned[(df_cleaned[column] >= lower_bound) & (df_cleaned[column] <= upper_bound)]\n"
   ]
  },
  {
   "cell_type": "code",
   "execution_count": 13,
   "metadata": {
    "id": "dQauKR11fyxb"
   },
   "outputs": [
    {
     "name": "stdout",
     "output_type": "stream",
     "text": [
      "Class balance:\n",
      "claim_status\n",
      "opinion    9406\n",
      "claim      1003\n",
      "Name: count, dtype: int64\n"
     ]
    }
   ],
   "source": [
    "# Check class balance\n",
    "class_balance = df_cleaned['claim_status'].value_counts()\n",
    "print(\"Class balance:\")\n",
    "print(class_balance)\n"
   ]
  },
  {
   "cell_type": "markdown",
   "metadata": {
    "id": "kD8TsZ8jqri0"
   },
   "source": [
    "## **PACE: Construct**\n",
    "Consider the questions in the PACE Strategy Document to reflect on the Construct stage."
   ]
  },
  {
   "cell_type": "markdown",
   "metadata": {
    "id": "8i0spBspquCr"
   },
   "source": [
    "### **Task 3: Feature engineering**"
   ]
  },
  {
   "cell_type": "code",
   "execution_count": 14,
   "metadata": {
    "id": "8Yr9hhhVHeYY"
   },
   "outputs": [],
   "source": [
    "# Extract the length of each `video_transcription_text` and add this as a column to the dataframe\n",
    "df_cleaned['text_length'] = df_cleaned['video_transcription_text'].apply(len)\n"
   ]
  },
  {
   "cell_type": "code",
   "execution_count": 15,
   "metadata": {
    "id": "Vzg0J8UEJ1wx"
   },
   "outputs": [
    {
     "name": "stdout",
     "output_type": "stream",
     "text": [
      "Average Claim Length: 95.35992023928215\n",
      "Average Opinion Length: 82.70944078247926\n"
     ]
    }
   ],
   "source": [
    "# Calculate the average text_length for claims and opinions\n",
    "average_claim_length = df_cleaned[df_cleaned['claim_status'] == 'claim']['text_length'].mean()\n",
    "average_opinion_length = df_cleaned[df_cleaned['claim_status'] == 'opinion']['text_length'].mean()\n",
    "\n",
    "print(f\"Average Claim Length: {average_claim_length}\")\n",
    "print(f\"Average Opinion Length: {average_opinion_length}\")\n"
   ]
  },
  {
   "cell_type": "code",
   "execution_count": 16,
   "metadata": {
    "id": "MSq136S3TIYe"
   },
   "outputs": [
    {
     "data": {
      "image/png": "[encoded data removed]",
      "text/plain": [
       "<Figure size 600x500 with 1 Axes>"
      ]
     },
     "metadata": {},
     "output_type": "display_data"
    }
   ],
   "source": [
    "# Visualize the distribution of `text_length` for claims and opinions\n",
    "# Create two histograms in one plot\n",
    "plt.figure(figsize=(6, 5))\n",
    "sns.histplot(df_cleaned[df_cleaned['claim_status'] == 'claim']['text_length'], color='blue', label='Claim', kde=True, bins=30)\n",
    "sns.histplot(df_cleaned[df_cleaned['claim_status'] == 'opinion']['text_length'], color='orange', label='Opinion', kde=True, bins=30)\n",
    "plt.title('Distribution of Text Length for Claims and Opinions')\n",
    "plt.xlabel('Text Length')\n",
    "plt.ylabel('Frequency')\n",
    "plt.legend()\n",
    "plt.show()\n"
   ]
  },
  {
   "cell_type": "markdown",
   "metadata": {},
   "source": [
    "**Feature selection and transformation**"
   ]
  },
  {
   "cell_type": "markdown",
   "metadata": {},
   "source": [
    "Encode target and catgorical variables."
   ]
  },
  {
   "cell_type": "code",
   "execution_count": 17,
   "metadata": {},
   "outputs": [
    {
     "data": {
      "text/html": [
       "<div>\n",
       "<style scoped>\n",
       "    .dataframe tbody tr th:only-of-type {\n",
       "        vertical-align: middle;\n",
       "    }\n",
       "\n",
       "    .dataframe tbody tr th {\n",
       "        vertical-align: top;\n",
       "    }\n",
       "\n",
       "    .dataframe thead th {\n",
       "        text-align: right;\n",
       "    }\n",
       "</style>\n",
       "<table border=\"1\" class=\"dataframe\">\n",
       "  <thead>\n",
       "    <tr style=\"text-align: right;\">\n",
       "      <th></th>\n",
       "      <th>#</th>\n",
       "      <th>video_duration_sec</th>\n",
       "      <th>video_view_count</th>\n",
       "      <th>video_like_count</th>\n",
       "      <th>video_share_count</th>\n",
       "      <th>video_download_count</th>\n",
       "      <th>video_comment_count</th>\n",
       "      <th>text_length</th>\n",
       "      <th>verified_status_verified</th>\n",
       "      <th>author_ban_status_banned</th>\n",
       "      <th>author_ban_status_under review</th>\n",
       "    </tr>\n",
       "  </thead>\n",
       "  <tbody>\n",
       "    <tr>\n",
       "      <th>0</th>\n",
       "      <td>1</td>\n",
       "      <td>59</td>\n",
       "      <td>343296.0</td>\n",
       "      <td>19425.0</td>\n",
       "      <td>241.0</td>\n",
       "      <td>1.0</td>\n",
       "      <td>0.0</td>\n",
       "      <td>97</td>\n",
       "      <td>False</td>\n",
       "      <td>False</td>\n",
       "      <td>True</td>\n",
       "    </tr>\n",
       "    <tr>\n",
       "      <th>7</th>\n",
       "      <td>8</td>\n",
       "      <td>41</td>\n",
       "      <td>547532.0</td>\n",
       "      <td>1072.0</td>\n",
       "      <td>50.0</td>\n",
       "      <td>22.0</td>\n",
       "      <td>11.0</td>\n",
       "      <td>99</td>\n",
       "      <td>False</td>\n",
       "      <td>False</td>\n",
       "      <td>False</td>\n",
       "    </tr>\n",
       "    <tr>\n",
       "      <th>15</th>\n",
       "      <td>16</td>\n",
       "      <td>10</td>\n",
       "      <td>746186.0</td>\n",
       "      <td>193.0</td>\n",
       "      <td>29.0</td>\n",
       "      <td>2.0</td>\n",
       "      <td>0.0</td>\n",
       "      <td>100</td>\n",
       "      <td>False</td>\n",
       "      <td>False</td>\n",
       "      <td>False</td>\n",
       "    </tr>\n",
       "    <tr>\n",
       "      <th>40</th>\n",
       "      <td>41</td>\n",
       "      <td>25</td>\n",
       "      <td>289935.0</td>\n",
       "      <td>3484.0</td>\n",
       "      <td>1092.0</td>\n",
       "      <td>20.0</td>\n",
       "      <td>3.0</td>\n",
       "      <td>92</td>\n",
       "      <td>False</td>\n",
       "      <td>False</td>\n",
       "      <td>True</td>\n",
       "    </tr>\n",
       "    <tr>\n",
       "      <th>52</th>\n",
       "      <td>53</td>\n",
       "      <td>40</td>\n",
       "      <td>301749.0</td>\n",
       "      <td>27047.0</td>\n",
       "      <td>1544.0</td>\n",
       "      <td>230.0</td>\n",
       "      <td>18.0</td>\n",
       "      <td>86</td>\n",
       "      <td>False</td>\n",
       "      <td>False</td>\n",
       "      <td>False</td>\n",
       "    </tr>\n",
       "  </tbody>\n",
       "</table>\n",
       "</div>"
      ],
      "text/plain": [
       "     #  video_duration_sec  video_view_count  video_like_count  \\\n",
       "0    1                  59          343296.0           19425.0   \n",
       "7    8                  41          547532.0            1072.0   \n",
       "15  16                  10          746186.0             193.0   \n",
       "40  41                  25          289935.0            3484.0   \n",
       "52  53                  40          301749.0           27047.0   \n",
       "\n",
       "    video_share_count  video_download_count  video_comment_count  text_length  \\\n",
       "0               241.0                   1.0                  0.0           97   \n",
       "7                50.0                  22.0                 11.0           99   \n",
       "15               29.0                   2.0                  0.0          100   \n",
       "40             1092.0                  20.0                  3.0           92   \n",
       "52             1544.0                 230.0                 18.0           86   \n",
       "\n",
       "    verified_status_verified  author_ban_status_banned  \\\n",
       "0                      False                     False   \n",
       "7                      False                     False   \n",
       "15                     False                     False   \n",
       "40                     False                     False   \n",
       "52                     False                     False   \n",
       "\n",
       "    author_ban_status_under review  \n",
       "0                             True  \n",
       "7                            False  \n",
       "15                           False  \n",
       "40                            True  \n",
       "52                           False  "
      ]
     },
     "execution_count": 17,
     "metadata": {},
     "output_type": "execute_result"
    }
   ],
   "source": [
    "# Create a copy of the X data\n",
    "X = df_cleaned.copy()\n",
    "\n",
    "# Drop unnecessary columns\n",
    "X = X.drop(columns=['video_id', 'video_transcription_text'])\n",
    "\n",
    "# Encode target variable\n",
    "# Assuming 'claim_status' is the target variable\n",
    "y = X['claim_status'].apply(lambda x: 1 if x == 'claim' else 0)\n",
    "\n",
    "# Drop the target variable from the features\n",
    "X = X.drop(columns=['claim_status'])\n",
    "\n",
    "# Dummy encode remaining categorical values\n",
    "X = pd.get_dummies(X, drop_first=True)\n",
    "\n",
    "# Display the first few rows to verify encoding\n",
    "X.head()\n"
   ]
  },
  {
   "cell_type": "markdown",
   "metadata": {
    "id": "6frX3ATWZVgL"
   },
   "source": [
    "### **Task 4: Split the data**"
   ]
  },
  {
   "cell_type": "markdown",
   "metadata": {},
   "source": [
    "Assign target variable."
   ]
  },
  {
   "cell_type": "code",
   "execution_count": 18,
   "metadata": {},
   "outputs": [],
   "source": [
    "# Isolate target variable\n",
    "y = df_cleaned['claim_status'].apply(lambda x: 1 if x == 'claim' else 0)\n"
   ]
  },
  {
   "cell_type": "code",
   "execution_count": 19,
   "metadata": {},
   "outputs": [
    {
     "data": {
      "text/html": [
       "<div>\n",
       "<style scoped>\n",
       "    .dataframe tbody tr th:only-of-type {\n",
       "        vertical-align: middle;\n",
       "    }\n",
       "\n",
       "    .dataframe tbody tr th {\n",
       "        vertical-align: top;\n",
       "    }\n",
       "\n",
       "    .dataframe thead th {\n",
       "        text-align: right;\n",
       "    }\n",
       "</style>\n",
       "<table border=\"1\" class=\"dataframe\">\n",
       "  <thead>\n",
       "    <tr style=\"text-align: right;\">\n",
       "      <th></th>\n",
       "      <th>#</th>\n",
       "      <th>video_duration_sec</th>\n",
       "      <th>video_view_count</th>\n",
       "      <th>video_like_count</th>\n",
       "      <th>video_share_count</th>\n",
       "      <th>video_download_count</th>\n",
       "      <th>video_comment_count</th>\n",
       "      <th>text_length</th>\n",
       "      <th>verified_status_verified</th>\n",
       "      <th>author_ban_status_banned</th>\n",
       "      <th>author_ban_status_under review</th>\n",
       "    </tr>\n",
       "  </thead>\n",
       "  <tbody>\n",
       "    <tr>\n",
       "      <th>0</th>\n",
       "      <td>1</td>\n",
       "      <td>59</td>\n",
       "      <td>343296.0</td>\n",
       "      <td>19425.0</td>\n",
       "      <td>241.0</td>\n",
       "      <td>1.0</td>\n",
       "      <td>0.0</td>\n",
       "      <td>97</td>\n",
       "      <td>False</td>\n",
       "      <td>False</td>\n",
       "      <td>True</td>\n",
       "    </tr>\n",
       "    <tr>\n",
       "      <th>7</th>\n",
       "      <td>8</td>\n",
       "      <td>41</td>\n",
       "      <td>547532.0</td>\n",
       "      <td>1072.0</td>\n",
       "      <td>50.0</td>\n",
       "      <td>22.0</td>\n",
       "      <td>11.0</td>\n",
       "      <td>99</td>\n",
       "      <td>False</td>\n",
       "      <td>False</td>\n",
       "      <td>False</td>\n",
       "    </tr>\n",
       "    <tr>\n",
       "      <th>15</th>\n",
       "      <td>16</td>\n",
       "      <td>10</td>\n",
       "      <td>746186.0</td>\n",
       "      <td>193.0</td>\n",
       "      <td>29.0</td>\n",
       "      <td>2.0</td>\n",
       "      <td>0.0</td>\n",
       "      <td>100</td>\n",
       "      <td>False</td>\n",
       "      <td>False</td>\n",
       "      <td>False</td>\n",
       "    </tr>\n",
       "    <tr>\n",
       "      <th>40</th>\n",
       "      <td>41</td>\n",
       "      <td>25</td>\n",
       "      <td>289935.0</td>\n",
       "      <td>3484.0</td>\n",
       "      <td>1092.0</td>\n",
       "      <td>20.0</td>\n",
       "      <td>3.0</td>\n",
       "      <td>92</td>\n",
       "      <td>False</td>\n",
       "      <td>False</td>\n",
       "      <td>True</td>\n",
       "    </tr>\n",
       "    <tr>\n",
       "      <th>52</th>\n",
       "      <td>53</td>\n",
       "      <td>40</td>\n",
       "      <td>301749.0</td>\n",
       "      <td>27047.0</td>\n",
       "      <td>1544.0</td>\n",
       "      <td>230.0</td>\n",
       "      <td>18.0</td>\n",
       "      <td>86</td>\n",
       "      <td>False</td>\n",
       "      <td>False</td>\n",
       "      <td>False</td>\n",
       "    </tr>\n",
       "  </tbody>\n",
       "</table>\n",
       "</div>"
      ],
      "text/plain": [
       "     #  video_duration_sec  video_view_count  video_like_count  \\\n",
       "0    1                  59          343296.0           19425.0   \n",
       "7    8                  41          547532.0            1072.0   \n",
       "15  16                  10          746186.0             193.0   \n",
       "40  41                  25          289935.0            3484.0   \n",
       "52  53                  40          301749.0           27047.0   \n",
       "\n",
       "    video_share_count  video_download_count  video_comment_count  text_length  \\\n",
       "0               241.0                   1.0                  0.0           97   \n",
       "7                50.0                  22.0                 11.0           99   \n",
       "15               29.0                   2.0                  0.0          100   \n",
       "40             1092.0                  20.0                  3.0           92   \n",
       "52             1544.0                 230.0                 18.0           86   \n",
       "\n",
       "    verified_status_verified  author_ban_status_banned  \\\n",
       "0                      False                     False   \n",
       "7                      False                     False   \n",
       "15                     False                     False   \n",
       "40                     False                     False   \n",
       "52                     False                     False   \n",
       "\n",
       "    author_ban_status_under review  \n",
       "0                             True  \n",
       "7                            False  \n",
       "15                           False  \n",
       "40                            True  \n",
       "52                           False  "
      ]
     },
     "execution_count": 19,
     "metadata": {},
     "output_type": "execute_result"
    }
   ],
   "source": [
    "# Isolate features\n",
    "X = df_cleaned.drop(columns=['claim_status', 'video_id', 'video_transcription_text'])\n",
    "\n",
    "# Dummy encode remaining categorical values (if any)\n",
    "X = pd.get_dummies(X, drop_first=True)\n",
    "\n",
    "# Display first few rows of features dataframe\n",
    "X.head()\n"
   ]
  },
  {
   "cell_type": "markdown",
   "metadata": {},
   "source": [
    "#### **Task 5: Create train/validate/test sets**"
   ]
  },
  {
   "cell_type": "markdown",
   "metadata": {
    "id": "i_3k0QfaNt1R"
   },
   "source": [
    "Split data into training and testing sets, 80/20."
   ]
  },
  {
   "cell_type": "code",
   "execution_count": 20,
   "metadata": {
    "id": "D5OpxNZYOISV"
   },
   "outputs": [],
   "source": [
    "# Split the data into training and testing sets\n",
    "X_train, X_test, y_train, y_test = train_test_split(X, y, test_size=0.2, random_state=42)\n"
   ]
  },
  {
   "cell_type": "markdown",
   "metadata": {
    "id": "rbpnEjop82zL"
   },
   "source": [
    "Split the training set into training and validation sets, 75/25, to result in a final ratio of 60/20/20 for train/validate/test sets."
   ]
  },
  {
   "cell_type": "code",
   "execution_count": 21,
   "metadata": {
    "id": "A9O-DjLxOJvT"
   },
   "outputs": [],
   "source": [
    "# Split the training data into training and validation sets\n",
    "X_train, X_val, y_train, y_val = train_test_split(X_train, y_train, test_size=0.25, random_state=42)  # 0.25 * 0.8 = 0.2\n"
   ]
  },
  {
   "cell_type": "markdown",
   "metadata": {
    "id": "tJ60GPLdOMXr"
   },
   "source": [
    "Confirm that the dimensions of the training, validation, and testing sets are in alignment."
   ]
  },
  {
   "cell_type": "code",
   "execution_count": 22,
   "metadata": {
    "id": "TefBRXUu8zWR"
   },
   "outputs": [
    {
     "name": "stdout",
     "output_type": "stream",
     "text": [
      "Training features shape: (6245, 11)\n",
      "Validation features shape: (2082, 11)\n",
      "Testing features shape: (2082, 11)\n",
      "Training target shape: (6245,)\n",
      "Validation target shape: (2082,)\n",
      "Testing target shape: (2082,)\n"
     ]
    }
   ],
   "source": [
    "# Get shape of each training, validation, and testing set\n",
    "print(f'Training features shape: {X_train.shape}')\n",
    "print(f'Validation features shape: {X_val.shape}')\n",
    "print(f'Testing features shape: {X_test.shape}')\n",
    "print(f'Training target shape: {y_train.shape}')\n",
    "print(f'Validation target shape: {y_val.shape}')\n",
    "print(f'Testing target shape: {y_test.shape}')\n"
   ]
  },
  {
   "cell_type": "markdown",
   "metadata": {
    "id": "3_es-Jh1atUz"
   },
   "source": [
    "### **Task 6. Build models**\n"
   ]
  },
  {
   "cell_type": "markdown",
   "metadata": {
    "id": "HdBwwccoP0SU"
   },
   "source": [
    "### **Build a random forest model**"
   ]
  },
  {
   "cell_type": "markdown",
   "metadata": {
    "id": "ty8ieBkDBH4g"
   },
   "source": [
    "Fit a random forest model to the training set. Use cross-validation to tune the hyperparameters and select the model that performs best on recall."
   ]
  },
  {
   "cell_type": "code",
   "execution_count": 23,
   "metadata": {
    "id": "sNcke2SNvZrN"
   },
   "outputs": [],
   "source": [
    "# Instantiate the random forest classifier\n",
    "rf_clf = RandomForestClassifier(random_state=42)\n",
    "\n",
    "# Create a dictionary of hyperparameters to tune\n",
    "param_grid = {\n",
    "    'n_estimators': [10, 50, 100],\n",
    "    'max_depth': [None, 10, 20, 30],\n",
    "    'min_samples_split': [2, 5, 10],\n",
    "    'min_samples_leaf': [1, 2, 4],\n",
    "    'bootstrap': [True, False]\n",
    "}\n",
    "\n",
    "# Define a dictionary of scoring metrics to capture\n",
    "scoring = {\n",
    "    'accuracy': 'accuracy',\n",
    "    'precision': 'precision',\n",
    "    'recall': 'recall'\n",
    "}\n",
    "\n",
    "# Instantiate the GridSearchCV object\n",
    "grid_search = GridSearchCV(estimator=rf_clf, param_grid=param_grid, scoring='recall', refit='recall', cv=5, n_jobs=-1)\n"
   ]
  },
  {
   "cell_type": "code",
   "execution_count": 24,
   "metadata": {},
   "outputs": [
    {
     "data": {
      "text/html": [
       "<style>#sk-container-id-1 {color: black;}#sk-container-id-1 pre{padding: 0;}#sk-container-id-1 div.sk-toggleable {background-color: white;}#sk-container-id-1 label.sk-toggleable__label {cursor: pointer;display: block;width: 100%;margin-bottom: 0;padding: 0.3em;box-sizing: border-box;text-align: center;}#sk-container-id-1 label.sk-toggleable__label-arrow:before {content: \"▸\";float: left;margin-right: 0.25em;color: #696969;}#sk-container-id-1 label.sk-toggleable__label-arrow:hover:before {color: black;}#sk-container-id-1 div.sk-estimator:hover label.sk-toggleable__label-arrow:before {color: black;}#sk-container-id-1 div.sk-toggleable__content {max-height: 0;max-width: 0;overflow: hidden;text-align: left;background-color: #f0f8ff;}#sk-container-id-1 div.sk-toggleable__content pre {margin: 0.2em;color: black;border-radius: 0.25em;background-color: #f0f8ff;}#sk-container-id-1 input.sk-toggleable__control:checked~div.sk-toggleable__content {max-height: 200px;max-width: 100%;overflow: auto;}#sk-container-id-1 input.sk-toggleable__control:checked~label.sk-toggleable__label-arrow:before {content: \"▾\";}#sk-container-id-1 div.sk-estimator input.sk-toggleable__control:checked~label.sk-toggleable__label {background-color: #d4ebff;}#sk-container-id-1 div.sk-label input.sk-toggleable__control:checked~label.sk-toggleable__label {background-color: #d4ebff;}#sk-container-id-1 input.sk-hidden--visually {border: 0;clip: rect(1px 1px 1px 1px);clip: rect(1px, 1px, 1px, 1px);height: 1px;margin: -1px;overflow: hidden;padding: 0;position: absolute;width: 1px;}#sk-container-id-1 div.sk-estimator {font-family: monospace;background-color: #f0f8ff;border: 1px dotted black;border-radius: 0.25em;box-sizing: border-box;margin-bottom: 0.5em;}#sk-container-id-1 div.sk-estimator:hover {background-color: #d4ebff;}#sk-container-id-1 div.sk-parallel-item::after {content: \"\";width: 100%;border-bottom: 1px solid gray;flex-grow: 1;}#sk-container-id-1 div.sk-label:hover label.sk-toggleable__label {background-color: #d4ebff;}#sk-container-id-1 div.sk-serial::before {content: \"\";position: absolute;border-left: 1px solid gray;box-sizing: border-box;top: 0;bottom: 0;left: 50%;z-index: 0;}#sk-container-id-1 div.sk-serial {display: flex;flex-direction: column;align-items: center;background-color: white;padding-right: 0.2em;padding-left: 0.2em;position: relative;}#sk-container-id-1 div.sk-item {position: relative;z-index: 1;}#sk-container-id-1 div.sk-parallel {display: flex;align-items: stretch;justify-content: center;background-color: white;position: relative;}#sk-container-id-1 div.sk-item::before, #sk-container-id-1 div.sk-parallel-item::before {content: \"\";position: absolute;border-left: 1px solid gray;box-sizing: border-box;top: 0;bottom: 0;left: 50%;z-index: -1;}#sk-container-id-1 div.sk-parallel-item {display: flex;flex-direction: column;z-index: 1;position: relative;background-color: white;}#sk-container-id-1 div.sk-parallel-item:first-child::after {align-self: flex-end;width: 50%;}#sk-container-id-1 div.sk-parallel-item:last-child::after {align-self: flex-start;width: 50%;}#sk-container-id-1 div.sk-parallel-item:only-child::after {width: 0;}#sk-container-id-1 div.sk-dashed-wrapped {border: 1px dashed gray;margin: 0 0.4em 0.5em 0.4em;box-sizing: border-box;padding-bottom: 0.4em;background-color: white;}#sk-container-id-1 div.sk-label label {font-family: monospace;font-weight: bold;display: inline-block;line-height: 1.2em;}#sk-container-id-1 div.sk-label-container {text-align: center;}#sk-container-id-1 div.sk-container {/* jupyter's `normalize.less` sets `[hidden] { display: none; }` but bootstrap.min.css set `[hidden] { display: none !important; }` so we also need the `!important` here to be able to override the default hidden behavior on the sphinx rendered scikit-learn.org. See: https://github.com/scikit-learn/scikit-learn/issues/21755 */display: inline-block !important;position: relative;}#sk-container-id-1 div.sk-text-repr-fallback {display: none;}</style><div id=\"sk-container-id-1\" class=\"sk-top-container\"><div class=\"sk-text-repr-fallback\"><pre>GridSearchCV(cv=5, estimator=RandomForestClassifier(random_state=42), n_jobs=-1,\n",
       "             param_grid={&#x27;bootstrap&#x27;: [True, False],\n",
       "                         &#x27;max_depth&#x27;: [None, 10, 20, 30],\n",
       "                         &#x27;min_samples_leaf&#x27;: [1, 2, 4],\n",
       "                         &#x27;min_samples_split&#x27;: [2, 5, 10],\n",
       "                         &#x27;n_estimators&#x27;: [10, 50, 100]},\n",
       "             refit=&#x27;recall&#x27;, scoring=&#x27;recall&#x27;)</pre><b>In a Jupyter environment, please rerun this cell to show the HTML representation or trust the notebook. <br />On GitHub, the HTML representation is unable to render, please try loading this page with nbviewer.org.</b></div><div class=\"sk-container\" hidden><div class=\"sk-item sk-dashed-wrapped\"><div class=\"sk-label-container\"><div class=\"sk-label sk-toggleable\"><input class=\"sk-toggleable__control sk-hidden--visually\" id=\"sk-estimator-id-1\" type=\"checkbox\" ><label for=\"sk-estimator-id-1\" class=\"sk-toggleable__label sk-toggleable__label-arrow\">GridSearchCV</label><div class=\"sk-toggleable__content\"><pre>GridSearchCV(cv=5, estimator=RandomForestClassifier(random_state=42), n_jobs=-1,\n",
       "             param_grid={&#x27;bootstrap&#x27;: [True, False],\n",
       "                         &#x27;max_depth&#x27;: [None, 10, 20, 30],\n",
       "                         &#x27;min_samples_leaf&#x27;: [1, 2, 4],\n",
       "                         &#x27;min_samples_split&#x27;: [2, 5, 10],\n",
       "                         &#x27;n_estimators&#x27;: [10, 50, 100]},\n",
       "             refit=&#x27;recall&#x27;, scoring=&#x27;recall&#x27;)</pre></div></div></div><div class=\"sk-parallel\"><div class=\"sk-parallel-item\"><div class=\"sk-item\"><div class=\"sk-label-container\"><div class=\"sk-label sk-toggleable\"><input class=\"sk-toggleable__control sk-hidden--visually\" id=\"sk-estimator-id-2\" type=\"checkbox\" ><label for=\"sk-estimator-id-2\" class=\"sk-toggleable__label sk-toggleable__label-arrow\">estimator: RandomForestClassifier</label><div class=\"sk-toggleable__content\"><pre>RandomForestClassifier(random_state=42)</pre></div></div></div><div class=\"sk-serial\"><div class=\"sk-item\"><div class=\"sk-estimator sk-toggleable\"><input class=\"sk-toggleable__control sk-hidden--visually\" id=\"sk-estimator-id-3\" type=\"checkbox\" ><label for=\"sk-estimator-id-3\" class=\"sk-toggleable__label sk-toggleable__label-arrow\">RandomForestClassifier</label><div class=\"sk-toggleable__content\"><pre>RandomForestClassifier(random_state=42)</pre></div></div></div></div></div></div></div></div></div></div>"
      ],
      "text/plain": [
       "GridSearchCV(cv=5, estimator=RandomForestClassifier(random_state=42), n_jobs=-1,\n",
       "             param_grid={'bootstrap': [True, False],\n",
       "                         'max_depth': [None, 10, 20, 30],\n",
       "                         'min_samples_leaf': [1, 2, 4],\n",
       "                         'min_samples_split': [2, 5, 10],\n",
       "                         'n_estimators': [10, 50, 100]},\n",
       "             refit='recall', scoring='recall')"
      ]
     },
     "execution_count": 24,
     "metadata": {},
     "output_type": "execute_result"
    }
   ],
   "source": [
    "# Fit the GridSearchCV object to the training data\n",
    "grid_search.fit(X_train, y_train)\n"
   ]
  },
  {
   "cell_type": "code",
   "execution_count": 25,
   "metadata": {
    "id": "ZG3B_POzPh1s"
   },
   "outputs": [
    {
     "name": "stdout",
     "output_type": "stream",
     "text": [
      "Best Recall Score: 1.0\n"
     ]
    }
   ],
   "source": [
    "# Examine best recall score\n",
    "best_recall_score = grid_search.best_score_\n",
    "print(f'Best Recall Score: {best_recall_score}')\n"
   ]
  },
  {
   "cell_type": "code",
   "execution_count": 26,
   "metadata": {
    "id": "aupWHyY0PlBz"
   },
   "outputs": [
    {
     "name": "stdout",
     "output_type": "stream",
     "text": [
      "   mean_fit_time  std_fit_time  mean_score_time  std_score_time  \\\n",
      "0       0.151525      0.019586         0.014019        0.002398   \n",
      "1       0.514249      0.010281         0.022903        0.001759   \n",
      "2       1.039373      0.040812         0.031233        0.001661   \n",
      "3       0.126980      0.013220         0.013655        0.007840   \n",
      "4       0.475830      0.010053         0.019847        0.001835   \n",
      "\n",
      "  param_bootstrap param_max_depth param_min_samples_leaf  \\\n",
      "0            True            None                      1   \n",
      "1            True            None                      1   \n",
      "2            True            None                      1   \n",
      "3            True            None                      1   \n",
      "4            True            None                      1   \n",
      "\n",
      "  param_min_samples_split param_n_estimators  \\\n",
      "0                       2                 10   \n",
      "1                       2                 50   \n",
      "2                       2                100   \n",
      "3                       5                 10   \n",
      "4                       5                 50   \n",
      "\n",
      "                                              params  split0_test_score  \\\n",
      "0  {'bootstrap': True, 'max_depth': None, 'min_sa...                1.0   \n",
      "1  {'bootstrap': True, 'max_depth': None, 'min_sa...                1.0   \n",
      "2  {'bootstrap': True, 'max_depth': None, 'min_sa...                1.0   \n",
      "3  {'bootstrap': True, 'max_depth': None, 'min_sa...                1.0   \n",
      "4  {'bootstrap': True, 'max_depth': None, 'min_sa...                1.0   \n",
      "\n",
      "   split1_test_score  split2_test_score  split3_test_score  split4_test_score  \\\n",
      "0            0.97541            0.99187            0.99187            0.99187   \n",
      "1            1.00000            1.00000            1.00000            0.99187   \n",
      "2            1.00000            1.00000            1.00000            1.00000   \n",
      "3            1.00000            1.00000            1.00000            0.99187   \n",
      "4            1.00000            1.00000            1.00000            0.99187   \n",
      "\n",
      "   mean_test_score  std_test_score  rank_test_score  \n",
      "0         0.990204        0.008039              214  \n",
      "1         0.998374        0.003252               67  \n",
      "2         1.000000        0.000000                1  \n",
      "3         0.998374        0.003252               67  \n",
      "4         0.998374        0.003252               67  \n",
      "Row with the best mean recall score:\n",
      "mean_fit_time                                                       1.039373\n",
      "std_fit_time                                                        0.040812\n",
      "mean_score_time                                                     0.031233\n",
      "std_score_time                                                      0.001661\n",
      "param_bootstrap                                                         True\n",
      "param_max_depth                                                         None\n",
      "param_min_samples_leaf                                                     1\n",
      "param_min_samples_split                                                    2\n",
      "param_n_estimators                                                       100\n",
      "params                     {'bootstrap': True, 'max_depth': None, 'min_sa...\n",
      "split0_test_score                                                        1.0\n",
      "split1_test_score                                                        1.0\n",
      "split2_test_score                                                        1.0\n",
      "split3_test_score                                                        1.0\n",
      "split4_test_score                                                        1.0\n",
      "mean_test_score                                                          1.0\n",
      "std_test_score                                                           0.0\n",
      "rank_test_score                                                            1\n",
      "Name: 2, dtype: object\n"
     ]
    }
   ],
   "source": [
    "# Get all the results from the CV and put them in a df\n",
    "cv_results = pd.DataFrame(grid_search.cv_results_)\n",
    "print(cv_results.head())\n",
    "\n",
    "# Isolate the row of the df with the max(mean precision score)\n",
    "best_recall_row = cv_results.loc[cv_results['mean_test_score'].idxmax()]\n",
    "print('Row with the best mean recall score:')\n",
    "print(best_recall_row)\n"
   ]
  },
  {
   "cell_type": "code",
   "execution_count": 27,
   "metadata": {
    "id": "-qzIDhk-Pq62"
   },
   "outputs": [
    {
     "name": "stdout",
     "output_type": "stream",
     "text": [
      "Best Parameters: {'bootstrap': True, 'max_depth': None, 'min_samples_leaf': 1, 'min_samples_split': 2, 'n_estimators': 100}\n"
     ]
    }
   ],
   "source": [
    "# Examine best parameters\n",
    "best_params = grid_search.best_params_\n",
    "print(f'Best Parameters: {best_params}')\n"
   ]
  },
  {
   "cell_type": "markdown",
   "metadata": {
    "id": "Sk2udvx9v3wt"
   },
   "source": [
    "**Question:** How well is your model performing? Consider average recall score and precision score."
   ]
  },
  {
   "cell_type": "markdown",
   "metadata": {},
   "source": [
    "\r\n",
    "The Random Forest model built for predicting whether a TikTok video contains a claim or opinion has demonstrated excellent performance based on the cross-validation results. \r\n",
    "\r\n",
    "#### Average Recall Score\r\n",
    "The best recall score obtained from cross-validation is **1.0**, which indicates that the model is able to identify all relevant instances of the class of interest (either claim or opinion) without missing any. This means the model has a perfect recall, ensuring that no actual claims are misclassified as opinions or vice versa.\r\n",
    "\r\n",
    "#### Precision Score\r\n",
    "While the average recall score is perfect, it is essential to also consider the precision score to ensure the model is not overfitting. A high precision score would indicate that the model is not only recalling all relevant instances but also making very few false positive predictions. \r\n",
    "\r\n",
    "Since precision score details were not directly provided in the outputs, it is crucial to compute the precision score using the validation set to ensure balanced performance.\r\n",
    "\r\n",
    "#### Hyperparameters and Model Configuration\r\n",
    "The best parameters for the Random Forest model are:\r\n",
    "- **bootstrap:** True\r\n",
    "- **max_depth:** None\r\n",
    "- **min_samples_leaf:** 1\r\n",
    "- **min_samples_split:** 2\r\n",
    "- **n_estimators:** 100\r\n",
    "\r\n",
    "These parameters suggest that the model is configured to use all features available without any depth restriction and a high number of estimators (trees), which typically leads to better performance.\r\n",
    "\r\n",
    "#### Summary\r\n",
    "Overall, the model is performing exceptionally well based on the recall score from cross-validation. However, to ensure a comprehensive evaluation, it is necessary to calculate and review the precision score, confusion matrix, and additional performance metrics on the validation set. This holistic assessment will confirm the model's robustness and reliability in real-world applications.\r\n"
   ]
  },
  {
   "cell_type": "markdown",
   "metadata": {
    "id": "JbdcI-94QNYL"
   },
   "source": [
    "### **Build an XGBoost model**"
   ]
  },
  {
   "cell_type": "code",
   "execution_count": 28,
   "metadata": {
    "id": "A8vLZ_x_QPpF"
   },
   "outputs": [],
   "source": [
    "# Instantiate the XGBoost classifier\n",
    "xgb_model = XGBClassifier(random_state=42)\n",
    "\n",
    "# Create a dictionary of hyperparameters to tune\n",
    "param_grid_xgb = {\n",
    "    'n_estimators': [50, 100, 200],\n",
    "    'max_depth': [3, 5, 7],\n",
    "    'learning_rate': [0.01, 0.1, 0.2],\n",
    "    'subsample': [0.7, 0.8, 0.9],\n",
    "    'colsample_bytree': [0.7, 0.8, 0.9],\n",
    "    'gamma': [0, 0.1, 0.2]\n",
    "}\n",
    "\n",
    "# Define a dictionary of scoring metrics to capture\n",
    "scoring_metrics = {'precision': 'precision', 'recall': 'recall'}\n",
    "\n",
    "# Instantiate the GridSearchCV object\n",
    "grid_search_xgb = GridSearchCV(estimator=xgb_model, param_grid=param_grid_xgb, \n",
    "                               scoring='recall', cv=5, n_jobs=-1, refit='recall')\n"
   ]
  },
  {
   "cell_type": "code",
   "execution_count": 29,
   "metadata": {},
   "outputs": [
    {
     "data": {
      "text/html": [
       "<style>#sk-container-id-2 {color: black;}#sk-container-id-2 pre{padding: 0;}#sk-container-id-2 div.sk-toggleable {background-color: white;}#sk-container-id-2 label.sk-toggleable__label {cursor: pointer;display: block;width: 100%;margin-bottom: 0;padding: 0.3em;box-sizing: border-box;text-align: center;}#sk-container-id-2 label.sk-toggleable__label-arrow:before {content: \"▸\";float: left;margin-right: 0.25em;color: #696969;}#sk-container-id-2 label.sk-toggleable__label-arrow:hover:before {color: black;}#sk-container-id-2 div.sk-estimator:hover label.sk-toggleable__label-arrow:before {color: black;}#sk-container-id-2 div.sk-toggleable__content {max-height: 0;max-width: 0;overflow: hidden;text-align: left;background-color: #f0f8ff;}#sk-container-id-2 div.sk-toggleable__content pre {margin: 0.2em;color: black;border-radius: 0.25em;background-color: #f0f8ff;}#sk-container-id-2 input.sk-toggleable__control:checked~div.sk-toggleable__content {max-height: 200px;max-width: 100%;overflow: auto;}#sk-container-id-2 input.sk-toggleable__control:checked~label.sk-toggleable__label-arrow:before {content: \"▾\";}#sk-container-id-2 div.sk-estimator input.sk-toggleable__control:checked~label.sk-toggleable__label {background-color: #d4ebff;}#sk-container-id-2 div.sk-label input.sk-toggleable__control:checked~label.sk-toggleable__label {background-color: #d4ebff;}#sk-container-id-2 input.sk-hidden--visually {border: 0;clip: rect(1px 1px 1px 1px);clip: rect(1px, 1px, 1px, 1px);height: 1px;margin: -1px;overflow: hidden;padding: 0;position: absolute;width: 1px;}#sk-container-id-2 div.sk-estimator {font-family: monospace;background-color: #f0f8ff;border: 1px dotted black;border-radius: 0.25em;box-sizing: border-box;margin-bottom: 0.5em;}#sk-container-id-2 div.sk-estimator:hover {background-color: #d4ebff;}#sk-container-id-2 div.sk-parallel-item::after {content: \"\";width: 100%;border-bottom: 1px solid gray;flex-grow: 1;}#sk-container-id-2 div.sk-label:hover label.sk-toggleable__label {background-color: #d4ebff;}#sk-container-id-2 div.sk-serial::before {content: \"\";position: absolute;border-left: 1px solid gray;box-sizing: border-box;top: 0;bottom: 0;left: 50%;z-index: 0;}#sk-container-id-2 div.sk-serial {display: flex;flex-direction: column;align-items: center;background-color: white;padding-right: 0.2em;padding-left: 0.2em;position: relative;}#sk-container-id-2 div.sk-item {position: relative;z-index: 1;}#sk-container-id-2 div.sk-parallel {display: flex;align-items: stretch;justify-content: center;background-color: white;position: relative;}#sk-container-id-2 div.sk-item::before, #sk-container-id-2 div.sk-parallel-item::before {content: \"\";position: absolute;border-left: 1px solid gray;box-sizing: border-box;top: 0;bottom: 0;left: 50%;z-index: -1;}#sk-container-id-2 div.sk-parallel-item {display: flex;flex-direction: column;z-index: 1;position: relative;background-color: white;}#sk-container-id-2 div.sk-parallel-item:first-child::after {align-self: flex-end;width: 50%;}#sk-container-id-2 div.sk-parallel-item:last-child::after {align-self: flex-start;width: 50%;}#sk-container-id-2 div.sk-parallel-item:only-child::after {width: 0;}#sk-container-id-2 div.sk-dashed-wrapped {border: 1px dashed gray;margin: 0 0.4em 0.5em 0.4em;box-sizing: border-box;padding-bottom: 0.4em;background-color: white;}#sk-container-id-2 div.sk-label label {font-family: monospace;font-weight: bold;display: inline-block;line-height: 1.2em;}#sk-container-id-2 div.sk-label-container {text-align: center;}#sk-container-id-2 div.sk-container {/* jupyter's `normalize.less` sets `[hidden] { display: none; }` but bootstrap.min.css set `[hidden] { display: none !important; }` so we also need the `!important` here to be able to override the default hidden behavior on the sphinx rendered scikit-learn.org. See: https://github.com/scikit-learn/scikit-learn/issues/21755 */display: inline-block !important;position: relative;}#sk-container-id-2 div.sk-text-repr-fallback {display: none;}</style><div id=\"sk-container-id-2\" class=\"sk-top-container\"><div class=\"sk-text-repr-fallback\"><pre>GridSearchCV(cv=5,\n",
       "             estimator=XGBClassifier(base_score=None, booster=None,\n",
       "                                     callbacks=None, colsample_bylevel=None,\n",
       "                                     colsample_bynode=None,\n",
       "                                     colsample_bytree=None, device=None,\n",
       "                                     early_stopping_rounds=None,\n",
       "                                     enable_categorical=False, eval_metric=None,\n",
       "                                     feature_types=None, gamma=None,\n",
       "                                     grow_policy=None, importance_type=None,\n",
       "                                     interaction_constraints=None,\n",
       "                                     learning_rate=None,...\n",
       "                                     max_leaves=None, min_child_weight=None,\n",
       "                                     missing=nan, monotone_constraints=None,\n",
       "                                     multi_strategy=None, n_estimators=None,\n",
       "                                     n_jobs=None, num_parallel_tree=None,\n",
       "                                     random_state=42, ...),\n",
       "             n_jobs=-1,\n",
       "             param_grid={&#x27;colsample_bytree&#x27;: [0.7, 0.8, 0.9],\n",
       "                         &#x27;gamma&#x27;: [0, 0.1, 0.2],\n",
       "                         &#x27;learning_rate&#x27;: [0.01, 0.1, 0.2],\n",
       "                         &#x27;max_depth&#x27;: [3, 5, 7], &#x27;n_estimators&#x27;: [50, 100, 200],\n",
       "                         &#x27;subsample&#x27;: [0.7, 0.8, 0.9]},\n",
       "             refit=&#x27;recall&#x27;, scoring=&#x27;recall&#x27;)</pre><b>In a Jupyter environment, please rerun this cell to show the HTML representation or trust the notebook. <br />On GitHub, the HTML representation is unable to render, please try loading this page with nbviewer.org.</b></div><div class=\"sk-container\" hidden><div class=\"sk-item sk-dashed-wrapped\"><div class=\"sk-label-container\"><div class=\"sk-label sk-toggleable\"><input class=\"sk-toggleable__control sk-hidden--visually\" id=\"sk-estimator-id-4\" type=\"checkbox\" ><label for=\"sk-estimator-id-4\" class=\"sk-toggleable__label sk-toggleable__label-arrow\">GridSearchCV</label><div class=\"sk-toggleable__content\"><pre>GridSearchCV(cv=5,\n",
       "             estimator=XGBClassifier(base_score=None, booster=None,\n",
       "                                     callbacks=None, colsample_bylevel=None,\n",
       "                                     colsample_bynode=None,\n",
       "                                     colsample_bytree=None, device=None,\n",
       "                                     early_stopping_rounds=None,\n",
       "                                     enable_categorical=False, eval_metric=None,\n",
       "                                     feature_types=None, gamma=None,\n",
       "                                     grow_policy=None, importance_type=None,\n",
       "                                     interaction_constraints=None,\n",
       "                                     learning_rate=None,...\n",
       "                                     max_leaves=None, min_child_weight=None,\n",
       "                                     missing=nan, monotone_constraints=None,\n",
       "                                     multi_strategy=None, n_estimators=None,\n",
       "                                     n_jobs=None, num_parallel_tree=None,\n",
       "                                     random_state=42, ...),\n",
       "             n_jobs=-1,\n",
       "             param_grid={&#x27;colsample_bytree&#x27;: [0.7, 0.8, 0.9],\n",
       "                         &#x27;gamma&#x27;: [0, 0.1, 0.2],\n",
       "                         &#x27;learning_rate&#x27;: [0.01, 0.1, 0.2],\n",
       "                         &#x27;max_depth&#x27;: [3, 5, 7], &#x27;n_estimators&#x27;: [50, 100, 200],\n",
       "                         &#x27;subsample&#x27;: [0.7, 0.8, 0.9]},\n",
       "             refit=&#x27;recall&#x27;, scoring=&#x27;recall&#x27;)</pre></div></div></div><div class=\"sk-parallel\"><div class=\"sk-parallel-item\"><div class=\"sk-item\"><div class=\"sk-label-container\"><div class=\"sk-label sk-toggleable\"><input class=\"sk-toggleable__control sk-hidden--visually\" id=\"sk-estimator-id-5\" type=\"checkbox\" ><label for=\"sk-estimator-id-5\" class=\"sk-toggleable__label sk-toggleable__label-arrow\">estimator: XGBClassifier</label><div class=\"sk-toggleable__content\"><pre>XGBClassifier(base_score=None, booster=None, callbacks=None,\n",
       "              colsample_bylevel=None, colsample_bynode=None,\n",
       "              colsample_bytree=None, device=None, early_stopping_rounds=None,\n",
       "              enable_categorical=False, eval_metric=None, feature_types=None,\n",
       "              gamma=None, grow_policy=None, importance_type=None,\n",
       "              interaction_constraints=None, learning_rate=None, max_bin=None,\n",
       "              max_cat_threshold=None, max_cat_to_onehot=None,\n",
       "              max_delta_step=None, max_depth=None, max_leaves=None,\n",
       "              min_child_weight=None, missing=nan, monotone_constraints=None,\n",
       "              multi_strategy=None, n_estimators=None, n_jobs=None,\n",
       "              num_parallel_tree=None, random_state=42, ...)</pre></div></div></div><div class=\"sk-serial\"><div class=\"sk-item\"><div class=\"sk-estimator sk-toggleable\"><input class=\"sk-toggleable__control sk-hidden--visually\" id=\"sk-estimator-id-6\" type=\"checkbox\" ><label for=\"sk-estimator-id-6\" class=\"sk-toggleable__label sk-toggleable__label-arrow\">XGBClassifier</label><div class=\"sk-toggleable__content\"><pre>XGBClassifier(base_score=None, booster=None, callbacks=None,\n",
       "              colsample_bylevel=None, colsample_bynode=None,\n",
       "              colsample_bytree=None, device=None, early_stopping_rounds=None,\n",
       "              enable_categorical=False, eval_metric=None, feature_types=None,\n",
       "              gamma=None, grow_policy=None, importance_type=None,\n",
       "              interaction_constraints=None, learning_rate=None, max_bin=None,\n",
       "              max_cat_threshold=None, max_cat_to_onehot=None,\n",
       "              max_delta_step=None, max_depth=None, max_leaves=None,\n",
       "              min_child_weight=None, missing=nan, monotone_constraints=None,\n",
       "              multi_strategy=None, n_estimators=None, n_jobs=None,\n",
       "              num_parallel_tree=None, random_state=42, ...)</pre></div></div></div></div></div></div></div></div></div></div>"
      ],
      "text/plain": [
       "GridSearchCV(cv=5,\n",
       "             estimator=XGBClassifier(base_score=None, booster=None,\n",
       "                                     callbacks=None, colsample_bylevel=None,\n",
       "                                     colsample_bynode=None,\n",
       "                                     colsample_bytree=None, device=None,\n",
       "                                     early_stopping_rounds=None,\n",
       "                                     enable_categorical=False, eval_metric=None,\n",
       "                                     feature_types=None, gamma=None,\n",
       "                                     grow_policy=None, importance_type=None,\n",
       "                                     interaction_constraints=None,\n",
       "                                     learning_rate=None,...\n",
       "                                     max_leaves=None, min_child_weight=None,\n",
       "                                     missing=nan, monotone_constraints=None,\n",
       "                                     multi_strategy=None, n_estimators=None,\n",
       "                                     n_jobs=None, num_parallel_tree=None,\n",
       "                                     random_state=42, ...),\n",
       "             n_jobs=-1,\n",
       "             param_grid={'colsample_bytree': [0.7, 0.8, 0.9],\n",
       "                         'gamma': [0, 0.1, 0.2],\n",
       "                         'learning_rate': [0.01, 0.1, 0.2],\n",
       "                         'max_depth': [3, 5, 7], 'n_estimators': [50, 100, 200],\n",
       "                         'subsample': [0.7, 0.8, 0.9]},\n",
       "             refit='recall', scoring='recall')"
      ]
     },
     "execution_count": 29,
     "metadata": {},
     "output_type": "execute_result"
    }
   ],
   "source": [
    "# Fit the model to the training data\n",
    "grid_search_xgb.fit(X_train, y_train)\n"
   ]
  },
  {
   "cell_type": "code",
   "execution_count": 30,
   "metadata": {},
   "outputs": [
    {
     "name": "stdout",
     "output_type": "stream",
     "text": [
      "Best Recall Score: 1.0\n"
     ]
    }
   ],
   "source": [
    "# Examine best recall score\n",
    "best_recall_score_xgb = grid_search_xgb.best_score_\n",
    "print(f'Best Recall Score: {best_recall_score_xgb}')\n"
   ]
  },
  {
   "cell_type": "code",
   "execution_count": 31,
   "metadata": {
    "id": "HKoNNFeMQViD"
   },
   "outputs": [],
   "source": [
    "# Get all the results from the CV and put them in a df\n",
    "results_xgb = pd.DataFrame(grid_search_xgb.cv_results_)\n",
    "\n",
    "# Isolate the row of the df with the max(mean recall score)\n",
    "best_row_xgb = results_xgb.loc[results_xgb['mean_test_score'].idxmax()]\n"
   ]
  },
  {
   "cell_type": "code",
   "execution_count": 32,
   "metadata": {},
   "outputs": [
    {
     "name": "stdout",
     "output_type": "stream",
     "text": [
      "Best Parameters: {'colsample_bytree': 0.7, 'gamma': 0, 'learning_rate': 0.1, 'max_depth': 3, 'n_estimators': 50, 'subsample': 0.7}\n"
     ]
    }
   ],
   "source": [
    "# Examine best parameters\n",
    "best_params_xgb = grid_search_xgb.best_params_\n",
    "print(f'Best Parameters: {best_params_xgb}')\n"
   ]
  },
  {
   "cell_type": "code",
   "execution_count": 33,
   "metadata": {},
   "outputs": [
    {
     "name": "stdout",
     "output_type": "stream",
     "text": [
      "     mean_fit_time  std_fit_time  mean_score_time  std_score_time  \\\n",
      "0         0.103522      0.001715         0.011706        0.001645   \n",
      "1         0.099059      0.004186         0.010742        0.002189   \n",
      "2         0.100036      0.004194         0.013001        0.003579   \n",
      "3         0.166057      0.003773         0.012001        0.001264   \n",
      "4         0.167850      0.007506         0.011801        0.001330   \n",
      "..             ...           ...              ...             ...   \n",
      "724       0.161129      0.011211         0.013862        0.006608   \n",
      "725       0.159894      0.004854         0.011240        0.000742   \n",
      "726       0.282963      0.005362         0.011049        0.002028   \n",
      "727       0.279609      0.009457         0.010811        0.000688   \n",
      "728       0.259915      0.009442         0.008800        0.001470   \n",
      "\n",
      "    param_colsample_bytree param_gamma param_learning_rate param_max_depth  \\\n",
      "0                      0.7           0                0.01               3   \n",
      "1                      0.7           0                0.01               3   \n",
      "2                      0.7           0                0.01               3   \n",
      "3                      0.7           0                0.01               3   \n",
      "4                      0.7           0                0.01               3   \n",
      "..                     ...         ...                 ...             ...   \n",
      "724                    0.9         0.2                 0.2               7   \n",
      "725                    0.9         0.2                 0.2               7   \n",
      "726                    0.9         0.2                 0.2               7   \n",
      "727                    0.9         0.2                 0.2               7   \n",
      "728                    0.9         0.2                 0.2               7   \n",
      "\n",
      "    param_n_estimators param_subsample  \\\n",
      "0                   50             0.7   \n",
      "1                   50             0.8   \n",
      "2                   50             0.9   \n",
      "3                  100             0.7   \n",
      "4                  100             0.8   \n",
      "..                 ...             ...   \n",
      "724                100             0.8   \n",
      "725                100             0.9   \n",
      "726                200             0.7   \n",
      "727                200             0.8   \n",
      "728                200             0.9   \n",
      "\n",
      "                                                params  split0_test_score  \\\n",
      "0    {'colsample_bytree': 0.7, 'gamma': 0, 'learnin...           0.450820   \n",
      "1    {'colsample_bytree': 0.7, 'gamma': 0, 'learnin...           0.508197   \n",
      "2    {'colsample_bytree': 0.7, 'gamma': 0, 'learnin...           0.508197   \n",
      "3    {'colsample_bytree': 0.7, 'gamma': 0, 'learnin...           0.909836   \n",
      "4    {'colsample_bytree': 0.7, 'gamma': 0, 'learnin...           0.909836   \n",
      "..                                                 ...                ...   \n",
      "724  {'colsample_bytree': 0.9, 'gamma': 0.2, 'learn...           1.000000   \n",
      "725  {'colsample_bytree': 0.9, 'gamma': 0.2, 'learn...           1.000000   \n",
      "726  {'colsample_bytree': 0.9, 'gamma': 0.2, 'learn...           1.000000   \n",
      "727  {'colsample_bytree': 0.9, 'gamma': 0.2, 'learn...           1.000000   \n",
      "728  {'colsample_bytree': 0.9, 'gamma': 0.2, 'learn...           1.000000   \n",
      "\n",
      "     split1_test_score  split2_test_score  split3_test_score  \\\n",
      "0             0.483607           0.593496           0.382114   \n",
      "1             0.573770           0.577236           0.382114   \n",
      "2             0.581967           0.569106           0.447154   \n",
      "3             0.909836           0.959350           0.894309   \n",
      "4             0.909836           0.959350           0.894309   \n",
      "..                 ...                ...                ...   \n",
      "724           1.000000           1.000000           1.000000   \n",
      "725           1.000000           1.000000           1.000000   \n",
      "726           1.000000           1.000000           1.000000   \n",
      "727           1.000000           1.000000           1.000000   \n",
      "728           1.000000           1.000000           1.000000   \n",
      "\n",
      "     split4_test_score  mean_test_score  std_test_score  rank_test_score  \n",
      "0             0.365854         0.455178        0.081580              662  \n",
      "1             0.422764         0.492816        0.078840              652  \n",
      "2             0.422764         0.505838        0.063481              649  \n",
      "3             0.902439         0.915154        0.022830              641  \n",
      "4             0.902439         0.915154        0.022830              641  \n",
      "..                 ...              ...             ...              ...  \n",
      "724           1.000000         1.000000        0.000000                1  \n",
      "725           1.000000         1.000000        0.000000                1  \n",
      "726           1.000000         1.000000        0.000000                1  \n",
      "727           1.000000         1.000000        0.000000                1  \n",
      "728           1.000000         1.000000        0.000000                1  \n",
      "\n",
      "[729 rows x 19 columns]\n",
      "Row with the best mean recall score:\n",
      "mean_fit_time                                                      0.098315\n",
      "std_fit_time                                                       0.004722\n",
      "mean_score_time                                                    0.011618\n",
      "std_score_time                                                     0.001363\n",
      "param_colsample_bytree                                                  0.7\n",
      "param_gamma                                                               0\n",
      "param_learning_rate                                                     0.1\n",
      "param_max_depth                                                           3\n",
      "param_n_estimators                                                       50\n",
      "param_subsample                                                         0.7\n",
      "params                    {'colsample_bytree': 0.7, 'gamma': 0, 'learnin...\n",
      "split0_test_score                                                       1.0\n",
      "split1_test_score                                                       1.0\n",
      "split2_test_score                                                       1.0\n",
      "split3_test_score                                                       1.0\n",
      "split4_test_score                                                       1.0\n",
      "mean_test_score                                                         1.0\n",
      "std_test_score                                                          0.0\n",
      "rank_test_score                                                           1\n",
      "Name: 27, dtype: object\n"
     ]
    }
   ],
   "source": [
    "# Display the results dataframe and the best row\n",
    "print(results_xgb)\n",
    "print(f'Row with the best mean recall score:\\n{best_row_xgb}')\n"
   ]
  },
  {
   "cell_type": "markdown",
   "metadata": {
    "id": "XHM9FTmHwHi9"
   },
   "source": [
    "**Question:** How well does your model perform? Consider recall score and precision score."
   ]
  },
  {
   "cell_type": "markdown",
   "metadata": {},
   "source": [
    "\r\n",
    "The XGBoost model performed exceptionally well, achieving a perfect recall score of 1.0. This indicates that the model was able to correctly identify all relevant instances (i.e., it did not miss any positive cases). The best parameters for the model were found to be:\r\n",
    "\r\n",
    "- `colsample_bytree`: 0.7\r\n",
    "- `gamma`: 0\r\n",
    "- `learning_rate`: 0.1\r\n",
    "- `max_depth`: 3\r\n",
    "- `n_estimators`: 50\r\n",
    "- `subsample`: 0.7\r\n",
    "\r\n",
    "**Recall Score:**\r\n",
    "- The recall score of 1.0 signifies that the model is very effective at identifying true positive cases. This is particularly important in scenarios where missing a positive case could have significant consequences.\r\n",
    "\r\n",
    "**Precision Score:**\r\n",
    "- Although the output doesn't directly provide the precision score, the high recall score suggests that the model is performing well. However, it is essential to also consider precision to ensure that the model isn't overfitting or generating too many false positives.\r\n",
    "\r\n",
    "**Mean Test Scores:**\r\n",
    "- The mean test score across all cross-validation splits was also 1.0, indicating consistent performance across different subsets of the data.\r\n",
    "\r\n",
    "**Standard Deviation of Test Scores:**\r\n",
    "- The standard deviation of the test scores was 0.0, which implies that there was no variation in the performance of the model across the cross-validation splits. This further supports the robustness of the model.\r\n",
    "\r\n",
    "Overall, the XGBoost model demonstrated excellent performance in terms of recall, and the consistency of the test scores suggests that the model is reliable. To further evaluate the model, it would be beneficial to examine the precision score and other metrics such as the F1 score, which balances precision and recall.\r\n"
   ]
  },
  {
   "cell_type": "markdown",
   "metadata": {
    "id": "_HGsWfEOeWPm"
   },
   "source": [
    "## **PACE: Execute**\n",
    "Consider the questions in the PACE Strategy Document to reflect on the Execute stage."
   ]
  },
  {
   "cell_type": "markdown",
   "metadata": {
    "id": "GyepBhCTa1Yx"
   },
   "source": [
    "### **Task 7. Evaluate model**\n",
    "\n",
    "Evaluate models against validation criteria."
   ]
  },
  {
   "cell_type": "markdown",
   "metadata": {
    "id": "vlAQZSQrRg9l"
   },
   "source": [
    "#### **Random forest**"
   ]
  },
  {
   "cell_type": "code",
   "execution_count": 34,
   "metadata": {},
   "outputs": [],
   "source": [
    "# Define the random forest classifier again\n",
    "rf = RandomForestClassifier(random_state=42)\n",
    "\n",
    "# Define the parameter grid again\n",
    "param_grid_rf = {\n",
    "    'bootstrap': [True, False],\n",
    "    'max_depth': [None, 10, 20, 30],\n",
    "    'min_samples_leaf': [1, 2, 4],\n",
    "    'min_samples_split': [2, 5, 10],\n",
    "    'n_estimators': [10, 50, 100]\n",
    "}\n",
    "\n",
    "# Create a dictionary of scoring metrics to capture\n",
    "scoring = {\n",
    "    'precision': 'precision',\n",
    "    'recall': 'recall'\n",
    "}\n"
   ]
  },
  {
   "cell_type": "code",
   "execution_count": 35,
   "metadata": {},
   "outputs": [
    {
     "data": {
      "text/html": [
       "<style>#sk-container-id-3 {color: black;}#sk-container-id-3 pre{padding: 0;}#sk-container-id-3 div.sk-toggleable {background-color: white;}#sk-container-id-3 label.sk-toggleable__label {cursor: pointer;display: block;width: 100%;margin-bottom: 0;padding: 0.3em;box-sizing: border-box;text-align: center;}#sk-container-id-3 label.sk-toggleable__label-arrow:before {content: \"▸\";float: left;margin-right: 0.25em;color: #696969;}#sk-container-id-3 label.sk-toggleable__label-arrow:hover:before {color: black;}#sk-container-id-3 div.sk-estimator:hover label.sk-toggleable__label-arrow:before {color: black;}#sk-container-id-3 div.sk-toggleable__content {max-height: 0;max-width: 0;overflow: hidden;text-align: left;background-color: #f0f8ff;}#sk-container-id-3 div.sk-toggleable__content pre {margin: 0.2em;color: black;border-radius: 0.25em;background-color: #f0f8ff;}#sk-container-id-3 input.sk-toggleable__control:checked~div.sk-toggleable__content {max-height: 200px;max-width: 100%;overflow: auto;}#sk-container-id-3 input.sk-toggleable__control:checked~label.sk-toggleable__label-arrow:before {content: \"▾\";}#sk-container-id-3 div.sk-estimator input.sk-toggleable__control:checked~label.sk-toggleable__label {background-color: #d4ebff;}#sk-container-id-3 div.sk-label input.sk-toggleable__control:checked~label.sk-toggleable__label {background-color: #d4ebff;}#sk-container-id-3 input.sk-hidden--visually {border: 0;clip: rect(1px 1px 1px 1px);clip: rect(1px, 1px, 1px, 1px);height: 1px;margin: -1px;overflow: hidden;padding: 0;position: absolute;width: 1px;}#sk-container-id-3 div.sk-estimator {font-family: monospace;background-color: #f0f8ff;border: 1px dotted black;border-radius: 0.25em;box-sizing: border-box;margin-bottom: 0.5em;}#sk-container-id-3 div.sk-estimator:hover {background-color: #d4ebff;}#sk-container-id-3 div.sk-parallel-item::after {content: \"\";width: 100%;border-bottom: 1px solid gray;flex-grow: 1;}#sk-container-id-3 div.sk-label:hover label.sk-toggleable__label {background-color: #d4ebff;}#sk-container-id-3 div.sk-serial::before {content: \"\";position: absolute;border-left: 1px solid gray;box-sizing: border-box;top: 0;bottom: 0;left: 50%;z-index: 0;}#sk-container-id-3 div.sk-serial {display: flex;flex-direction: column;align-items: center;background-color: white;padding-right: 0.2em;padding-left: 0.2em;position: relative;}#sk-container-id-3 div.sk-item {position: relative;z-index: 1;}#sk-container-id-3 div.sk-parallel {display: flex;align-items: stretch;justify-content: center;background-color: white;position: relative;}#sk-container-id-3 div.sk-item::before, #sk-container-id-3 div.sk-parallel-item::before {content: \"\";position: absolute;border-left: 1px solid gray;box-sizing: border-box;top: 0;bottom: 0;left: 50%;z-index: -1;}#sk-container-id-3 div.sk-parallel-item {display: flex;flex-direction: column;z-index: 1;position: relative;background-color: white;}#sk-container-id-3 div.sk-parallel-item:first-child::after {align-self: flex-end;width: 50%;}#sk-container-id-3 div.sk-parallel-item:last-child::after {align-self: flex-start;width: 50%;}#sk-container-id-3 div.sk-parallel-item:only-child::after {width: 0;}#sk-container-id-3 div.sk-dashed-wrapped {border: 1px dashed gray;margin: 0 0.4em 0.5em 0.4em;box-sizing: border-box;padding-bottom: 0.4em;background-color: white;}#sk-container-id-3 div.sk-label label {font-family: monospace;font-weight: bold;display: inline-block;line-height: 1.2em;}#sk-container-id-3 div.sk-label-container {text-align: center;}#sk-container-id-3 div.sk-container {/* jupyter's `normalize.less` sets `[hidden] { display: none; }` but bootstrap.min.css set `[hidden] { display: none !important; }` so we also need the `!important` here to be able to override the default hidden behavior on the sphinx rendered scikit-learn.org. See: https://github.com/scikit-learn/scikit-learn/issues/21755 */display: inline-block !important;position: relative;}#sk-container-id-3 div.sk-text-repr-fallback {display: none;}</style><div id=\"sk-container-id-3\" class=\"sk-top-container\"><div class=\"sk-text-repr-fallback\"><pre>GridSearchCV(cv=5, estimator=RandomForestClassifier(random_state=42), n_jobs=-1,\n",
       "             param_grid={&#x27;bootstrap&#x27;: [True, False],\n",
       "                         &#x27;max_depth&#x27;: [None, 10, 20, 30],\n",
       "                         &#x27;min_samples_leaf&#x27;: [1, 2, 4],\n",
       "                         &#x27;min_samples_split&#x27;: [2, 5, 10],\n",
       "                         &#x27;n_estimators&#x27;: [10, 50, 100]},\n",
       "             refit=&#x27;recall&#x27;, scoring=&#x27;recall&#x27;)</pre><b>In a Jupyter environment, please rerun this cell to show the HTML representation or trust the notebook. <br />On GitHub, the HTML representation is unable to render, please try loading this page with nbviewer.org.</b></div><div class=\"sk-container\" hidden><div class=\"sk-item sk-dashed-wrapped\"><div class=\"sk-label-container\"><div class=\"sk-label sk-toggleable\"><input class=\"sk-toggleable__control sk-hidden--visually\" id=\"sk-estimator-id-7\" type=\"checkbox\" ><label for=\"sk-estimator-id-7\" class=\"sk-toggleable__label sk-toggleable__label-arrow\">GridSearchCV</label><div class=\"sk-toggleable__content\"><pre>GridSearchCV(cv=5, estimator=RandomForestClassifier(random_state=42), n_jobs=-1,\n",
       "             param_grid={&#x27;bootstrap&#x27;: [True, False],\n",
       "                         &#x27;max_depth&#x27;: [None, 10, 20, 30],\n",
       "                         &#x27;min_samples_leaf&#x27;: [1, 2, 4],\n",
       "                         &#x27;min_samples_split&#x27;: [2, 5, 10],\n",
       "                         &#x27;n_estimators&#x27;: [10, 50, 100]},\n",
       "             refit=&#x27;recall&#x27;, scoring=&#x27;recall&#x27;)</pre></div></div></div><div class=\"sk-parallel\"><div class=\"sk-parallel-item\"><div class=\"sk-item\"><div class=\"sk-label-container\"><div class=\"sk-label sk-toggleable\"><input class=\"sk-toggleable__control sk-hidden--visually\" id=\"sk-estimator-id-8\" type=\"checkbox\" ><label for=\"sk-estimator-id-8\" class=\"sk-toggleable__label sk-toggleable__label-arrow\">estimator: RandomForestClassifier</label><div class=\"sk-toggleable__content\"><pre>RandomForestClassifier(random_state=42)</pre></div></div></div><div class=\"sk-serial\"><div class=\"sk-item\"><div class=\"sk-estimator sk-toggleable\"><input class=\"sk-toggleable__control sk-hidden--visually\" id=\"sk-estimator-id-9\" type=\"checkbox\" ><label for=\"sk-estimator-id-9\" class=\"sk-toggleable__label sk-toggleable__label-arrow\">RandomForestClassifier</label><div class=\"sk-toggleable__content\"><pre>RandomForestClassifier(random_state=42)</pre></div></div></div></div></div></div></div></div></div></div>"
      ],
      "text/plain": [
       "GridSearchCV(cv=5, estimator=RandomForestClassifier(random_state=42), n_jobs=-1,\n",
       "             param_grid={'bootstrap': [True, False],\n",
       "                         'max_depth': [None, 10, 20, 30],\n",
       "                         'min_samples_leaf': [1, 2, 4],\n",
       "                         'min_samples_split': [2, 5, 10],\n",
       "                         'n_estimators': [10, 50, 100]},\n",
       "             refit='recall', scoring='recall')"
      ]
     },
     "execution_count": 35,
     "metadata": {},
     "output_type": "execute_result"
    }
   ],
   "source": [
    "# Instantiate the GridSearchCV object again\n",
    "grid_search_rf = GridSearchCV(estimator=rf, param_grid=param_grid_rf, cv=5, n_jobs=-1, scoring='recall', refit='recall')\n",
    "grid_search_rf.fit(X_train, y_train)\n"
   ]
  },
  {
   "cell_type": "code",
   "execution_count": 36,
   "metadata": {
    "id": "mdTCEa_cRH8f"
   },
   "outputs": [],
   "source": [
    "# Use the random forest \"best estimator\" model to get predictions on the encoded testing set\n",
    "rf_best_estimator = grid_search_rf.best_estimator_\n",
    "rf_y_pred = rf_best_estimator.predict(X_test)\n"
   ]
  },
  {
   "cell_type": "markdown",
   "metadata": {
    "id": "As6nmV9xRLa-"
   },
   "source": [
    "Display the predictions on the encoded testing set."
   ]
  },
  {
   "cell_type": "code",
   "execution_count": 37,
   "metadata": {
    "id": "t8ppFvJXRL13"
   },
   "outputs": [
    {
     "name": "stdout",
     "output_type": "stream",
     "text": [
      "[0 0 0 0 0 0 0 0 0 0]\n"
     ]
    }
   ],
   "source": [
    "# Display the predictions on the encoded testing set\n",
    "print(rf_y_pred[:10])\n"
   ]
  },
  {
   "cell_type": "markdown",
   "metadata": {
    "id": "kR54Eel1RSUk"
   },
   "source": [
    "Display the true labels of the testing set."
   ]
  },
  {
   "cell_type": "code",
   "execution_count": 38,
   "metadata": {
    "id": "7-mCyVmLRSuz"
   },
   "outputs": [
    {
     "name": "stdout",
     "output_type": "stream",
     "text": [
      "12589    0\n",
      "13239    0\n",
      "18292    0\n",
      "17284    0\n",
      "12933    0\n",
      "12548    0\n",
      "13224    0\n",
      "17603    0\n",
      "10965    0\n",
      "10317    0\n",
      "Name: claim_status, dtype: int64\n"
     ]
    }
   ],
   "source": [
    "# Display the true labels of the testing set\n",
    "print(y_test[:10])\n"
   ]
  },
  {
   "cell_type": "markdown",
   "metadata": {
    "id": "rGbqgRDFRVZi"
   },
   "source": [
    "Create a confusion matrix to visualize the results of the classification model."
   ]
  },
  {
   "cell_type": "code",
   "execution_count": 39,
   "metadata": {
    "id": "_YJeJuzvRYPf"
   },
   "outputs": [
    {
     "data": {
      "image/png": "[encoded data removed]",
      "text/plain": [
       "<Figure size 640x480 with 2 Axes>"
      ]
     },
     "metadata": {},
     "output_type": "display_data"
    }
   ],
   "source": [
    "# Create a confusion matrix to visualize the results of the classification model\n",
    "\n",
    "# Compute values for confusion matrix\n",
    "rf_conf_matrix = confusion_matrix(y_test, rf_y_pred)\n",
    "\n",
    "# Create display of confusion matrix\n",
    "rf_conf_matrix_display = ConfusionMatrixDisplay(confusion_matrix=rf_conf_matrix, display_labels=['Opinion', 'Claim'])\n",
    "\n",
    "# Plot confusion matrix\n",
    "rf_conf_matrix_display.plot(cmap='Blues')\n",
    "\n",
    "# Display plot\n",
    "plt.title('Random Forest Confusion Matrix')\n",
    "plt.show()\n"
   ]
  },
  {
   "cell_type": "markdown",
   "metadata": {
    "id": "C2dugw11RiIK"
   },
   "source": [
    "Create a classification report that includes precision, recall, f1-score, and accuracy metrics to evaluate the performance of the model."
   ]
  },
  {
   "cell_type": "code",
   "execution_count": 40,
   "metadata": {
    "id": "kB8e7wfhRrAl"
   },
   "outputs": [
    {
     "name": "stdout",
     "output_type": "stream",
     "text": [
      "Random Forest Classification Report:\n",
      "              precision    recall  f1-score   support\n",
      "\n",
      "     Opinion       1.00      1.00      1.00      1869\n",
      "       Claim       1.00      1.00      1.00       213\n",
      "\n",
      "    accuracy                           1.00      2082\n",
      "   macro avg       1.00      1.00      1.00      2082\n",
      "weighted avg       1.00      1.00      1.00      2082\n",
      "\n"
     ]
    }
   ],
   "source": [
    "# Create a classification report\n",
    "# Create classification report for random forest model\n",
    "rf_classification_report = classification_report(y_test, rf_y_pred, target_names=['Opinion', 'Claim'])\n",
    "\n",
    "# Display the classification report\n",
    "print(\"Random Forest Classification Report:\")\n",
    "print(rf_classification_report)\n"
   ]
  },
  {
   "cell_type": "markdown",
   "metadata": {
    "id": "4PrZTQEXwrX6"
   },
   "source": [
    "**Question:** What does your classification report show? What does the confusion matrix indicate?"
   ]
  },
  {
   "cell_type": "markdown",
   "metadata": {},
   "source": [
    "\r\n",
    "The classification report shows that the random forest model has achieved perfect performance on the test set. The precision, recall, and f1-score for both classes (Opinion and Claim) are all 1.00. This indicates that the model is able to correctly classify all instances in the test set without any errors.\r\n",
    "\r\n",
    "- **Precision:** Precision is the ratio of true positive predictions to the total number of positive predictions. In this case, the precision for both Opinion and Claim is 1.00, meaning that every instance classified as Opinion or Claim by the model is correct.\r\n",
    "- **Recall:** Recall is the ratio of true positive predictions to the total number of actual positives. Here, the recall for both Opinion and Claim is 1.00, indicating that the model correctly identifies all actual Opinion and Claim instances.\r\n",
    "- **F1-score:** The f1-score is the harmonic mean of precision and recall, which is also 1.00 for both classes. This confirms that the model performs equally well in terms of precision and recall.\r\n",
    "- **Support:** Support refers to the number of actual occurrences of each class in the test set. There are 1869 Opinion instances and 213 Claim instances.\r\n",
    "\r\n",
    "**Confusion Matrix:**\r\n",
    "\r\n",
    "The confusion matrix provides a visual representation of the model's performance by comparing the predicted labels to the true labels. The matrix shows the following:\r\n",
    "\r\n",
    "- **True Positives (TP):** The model correctly classified 1869 instances as Opinion and 213 instances as Claim.\r\n",
    "- **True Negatives (TN):** There are no True Negatives in the confusion matrix because it focuses on the classification of each class.\r\n",
    "- **False Positives (FP):** There are no False Positives, indicating that the model did not incorrectly classify any instances as the other class.\r\n",
    "- **False Negatives (FN):** There are no False Negatives, meaning the model did not fail to identify any instances of the actual class.\r\n",
    "\r\n",
    "**Summary:**\r\n",
    "\r\n",
    "The confusion matrix and the classification report both indicate that the random forest model is performing exceptionally well on this dataset. It achieves perfect precision, recall, and f1-score for both classes, with no misclassifications. This suggests that the model is highly effective in distinguishing between Opinion and Claim instances in the test set.\r\n"
   ]
  },
  {
   "cell_type": "markdown",
   "metadata": {
    "id": "hc8hASOOR0AU"
   },
   "source": [
    "#### **XGBoost**"
   ]
  },
  {
   "cell_type": "code",
   "execution_count": 41,
   "metadata": {
    "id": "fvNxCHqhR9RM"
   },
   "outputs": [],
   "source": [
    "#Evaluate XGBoost model\n",
    "xgb_best_estimator = grid_search_xgb.best_estimator_\n",
    "xgb_y_pred = xgb_best_estimator.predict(X_test)\n"
   ]
  },
  {
   "cell_type": "code",
   "execution_count": 42,
   "metadata": {
    "id": "O9qpraX-SAjy"
   },
   "outputs": [
    {
     "data": {
      "text/plain": [
       "<Figure size 800x600 with 0 Axes>"
      ]
     },
     "metadata": {},
     "output_type": "display_data"
    },
    {
     "data": {
      "image/png": "[encoded data removed]",
      "text/plain": [
       "<Figure size 640x480 with 2 Axes>"
      ]
     },
     "metadata": {},
     "output_type": "display_data"
    }
   ],
   "source": [
    "# Evaluate XGBoost model\n",
    "xgb_best_estimator = grid_search_xgb.best_estimator_\n",
    "xgb_y_pred = xgb_best_estimator.predict(X_test)\n",
    "\n",
    "# Compute values for confusion matrix\n",
    "xgb_conf_matrix = confusion_matrix(y_test, xgb_y_pred)\n",
    "\n",
    "# Create display of confusion matrix\n",
    "xgb_conf_matrix_display = ConfusionMatrixDisplay(confusion_matrix=xgb_conf_matrix, display_labels=['Opinion', 'Claim'])\n",
    "\n",
    "# Plot confusion matrix\n",
    "plt.figure(figsize=(8, 6))\n",
    "xgb_conf_matrix_display.plot(cmap='Blues')\n",
    "plt.title('XGBoost Confusion Matrix')\n",
    "plt.show()\n"
   ]
  },
  {
   "cell_type": "code",
   "execution_count": 43,
   "metadata": {
    "id": "JcVuGMztSHx4"
   },
   "outputs": [
    {
     "name": "stdout",
     "output_type": "stream",
     "text": [
      "XGBoost Classification Report:\n",
      "              precision    recall  f1-score   support\n",
      "\n",
      "     Opinion       1.00      1.00      1.00      1869\n",
      "       Claim       1.00      1.00      1.00       213\n",
      "\n",
      "    accuracy                           1.00      2082\n",
      "   macro avg       1.00      1.00      1.00      2082\n",
      "weighted avg       1.00      1.00      1.00      2082\n",
      "\n"
     ]
    }
   ],
   "source": [
    "# Create a classification report for the XGBoost model\n",
    "xgb_classification_report = classification_report(y_test, xgb_y_pred, target_names=['Opinion', 'Claim'])\n",
    "\n",
    "# Display the classification report\n",
    "print(\"XGBoost Classification Report:\")\n",
    "print(xgb_classification_report)\n"
   ]
  },
  {
   "cell_type": "markdown",
   "metadata": {
    "id": "vvP4OljkwX0-"
   },
   "source": [
    "**Question:** Describe your XGBoost model results. How does your XGBoost model compare to your random forest model?"
   ]
  },
  {
   "cell_type": "markdown",
   "metadata": {},
   "source": [
    "\r",
    "In this section, I evaluate the performance of the XGBoost model and compare it to the previously developed Random Forest model. Both models were tuned using cross-validation and evaluated on the same testing set. The goal is to understand how each model performs in classifying TikTok videos as either 'Opinion' or 'Claim'..\r\n",
    "\r\n",
    "**XGBoost Model Results:**\r\n",
    "- **Precision, Recall, F1-Score:** The XGBoost model achieved perfect scores in precision, recall, and f1-score for both classes (Opinion and Claim), with all metrics being 1.00.\r\n",
    "- **Support:** The model evaluated 1869 instances of 'Opinion' and 213 instances of 'Claim', maintaining perfect classification for both.\r\n",
    "\r\n",
    "**Comparison with Random Forest Model:**\r\n",
    "- **Performance Metrics:** Both the XGBoost and Random Forest models achieved identical performance metrics with precision, recall, and f1-score all being 1.00 for both classes.\r\n",
    "- **Confusion Matrix:** The confusion matrices for both models show perfect classification with no false positives or false negatives. Each model correctly classified all instances of 'Opinion' and 'Claim'.\r\n",
    "\r\n",
    "**Conclusion:**\r\n",
    "- **Model Performance:** The XGBoost model's performance is on par with the Random Forest model, as both models achieved perfect classification results on the testing set.\r\n",
    "- **Model Selection:** Given the identical performance metrics, either model could be selected for deployment. However, it's worth noting that XGBoost generally offers better handling of large datasets and feature importance analysis. Additionally, tuning hyperparameters for XGBoost might provide more flexibility in improving model performance for different datasets.\r\n"
   ]
  },
  {
   "cell_type": "markdown",
   "metadata": {
    "id": "RhYr1O9jSN7O"
   },
   "source": [
    "### **Use champion model to predict on test data**"
   ]
  },
  {
   "cell_type": "code",
   "execution_count": 44,
   "metadata": {
    "id": "VJj1uNRqSQpG"
   },
   "outputs": [],
   "source": [
    "# Use the XGBoost \"best estimator\" model to get predictions on the encoded testing set\n",
    "xgb_best_estimator = grid_search_xgb.best_estimator_\n",
    "xgb_y_pred = xgb_best_estimator.predict(X_test)\n"
   ]
  },
  {
   "cell_type": "code",
   "execution_count": 45,
   "metadata": {
    "id": "5lpL5ebDSQ5d"
   },
   "outputs": [
    {
     "data": {
      "image/png": "[encoded data removed]",
      "text/plain": [
       "<Figure size 640x480 with 2 Axes>"
      ]
     },
     "metadata": {},
     "output_type": "display_data"
    }
   ],
   "source": [
    "# Compute values for confusion matrix\n",
    "xgb_conf_matrix = confusion_matrix(y_test, xgb_y_pred)\n",
    "\n",
    "# Create display of confusion matrix\n",
    "xgb_conf_matrix_display = ConfusionMatrixDisplay(xgb_conf_matrix, display_labels=['Opinion', 'Claim'])\n",
    "\n",
    "# Plot confusion matrix\n",
    "xgb_conf_matrix_display.plot(cmap='Blues')\n",
    "\n",
    "# Display plot\n",
    "plt.title('XGBoost Confusion Matrix on Test Data')\n",
    "plt.show()\n"
   ]
  },
  {
   "cell_type": "markdown",
   "metadata": {
    "id": "2vpvCa5rSVqR"
   },
   "source": [
    "#### **Feature importances of champion model**\n"
   ]
  },
  {
   "cell_type": "code",
   "execution_count": 46,
   "metadata": {
    "id": "MNtafEjgSYYt"
   },
   "outputs": [
    {
     "name": "stdout",
     "output_type": "stream",
     "text": [
      "                           Feature  Importance\n",
      "2                 video_view_count    0.560563\n",
      "0                                #    0.384715\n",
      "3                 video_like_count    0.035549\n",
      "9         author_ban_status_banned    0.006333\n",
      "6              video_comment_count    0.004070\n",
      "4                video_share_count    0.003657\n",
      "7                      text_length    0.003172\n",
      "5             video_download_count    0.001785\n",
      "1               video_duration_sec    0.000157\n",
      "8         verified_status_verified    0.000000\n",
      "10  author_ban_status_under review    0.000000\n"
     ]
    },
    {
     "data": {
      "image/png": "[encoded data removed]",
      "text/plain": [
       "<Figure size 1000x600 with 1 Axes>"
      ]
     },
     "metadata": {},
     "output_type": "display_data"
    }
   ],
   "source": [
    "# Extract feature importances from the XGBoost model\n",
    "xgb_feature_importances = xgb_best_estimator.feature_importances_\n",
    "feature_names = X_train.columns\n",
    "\n",
    "# Create a DataFrame for feature importances\n",
    "importance_df = pd.DataFrame({\n",
    "    'Feature': feature_names,\n",
    "    'Importance': xgb_feature_importances\n",
    "}).sort_values(by='Importance', ascending=False)\n",
    "\n",
    "# Display the feature importances\n",
    "print(importance_df)\n",
    "\n",
    "# Plot the feature importances\n",
    "plt.figure(figsize=(10, 6))\n",
    "sns.barplot(x='Importance', y='Feature', data=importance_df, hue='Feature', dodge=False, palette='viridis')\n",
    "plt.title('Feature Importances of the XGBoost Model')\n",
    "plt.xlabel('Importance')\n",
    "plt.ylabel('Feature')\n",
    "plt.legend([],[], frameon=False)\n",
    "plt.show()\n"
   ]
  },
  {
   "cell_type": "markdown",
   "metadata": {
    "id": "w2-2V5tAwxlz"
   },
   "source": [
    "**Question:** Describe your most predictive features. Were your results surprising?"
   ]
  },
  {
   "cell_type": "markdown",
   "metadata": {},
   "source": [
    "\r\n",
    "The feature importance plot and the corresponding DataFrame show that the most predictive features in the XGBoost model are:\r\n",
    "\r\n",
    "- **Video View Count**: This feature has the highest importance score (0.560563), indicating that the number of views a video receives is the most significant predictor of whether a video contains a claim or an opinion.\r\n",
    "- **Hashtag Count (#)**: This feature has the second highest importance score (0.384715). It suggests that the number of hashtags used in a video is also a crucial factor in distinguishing between claims and opinions.\r\n",
    "- **Video Like Count**: This feature, with an importance score of 0.035549, also contributes to the model's predictions, albeit to a lesser extent than video view count and hashtag count.\r\n",
    "\r\n",
    "Other features such as author ban status, video comment count, video share count, and text length have much lower importance scores, indicating that they have a smaller impact on the model's predictions.\r\n",
    "\r\n",
    "### Analysis of Results\r\n",
    "\r\n",
    "The results align with expectations, as features related to video engagement metrics (view count, like count) are naturally significant indicators of the video's content type. Higher engagement metrics generally indicate more influential or controversial content, which aligns with the nature of claims versus opinions.\r\n",
    "\r\n",
    "However, the dominance of the hashtag count as a predictive feature was somewhat surprising. This suggests that the use of hashtags plays a more critical role in distinguishing between claims and opinions than initially anticipated.\r\n",
    "\r\n",
    "Overall, the insights derived from the feature importance analysis highlight the importance of engagement metrics and the content's contextual features (like hashtags) in predicting the nature of video content on TikTok.\r\n"
   ]
  },
  {
   "cell_type": "markdown",
   "metadata": {
    "id": "ill21hQ4ej9-"
   },
   "source": [
    "### **Task 8. Conclusion**"
   ]
  },
  {
   "cell_type": "markdown",
   "metadata": {
    "id": "BfD0kv7qE3lw"
   },
   "source": [
    "### Conclusion\r\n",
    "In this project I developed and evaluated machine learning models to classify TikTok video transcriptions as either claims or opinions. Using Random Forest and XGBoost classifiersIwe aimed to understand the key features that drive this classification and assess the model performance in accurately predicting the target variable. Here I summarize the findings and provide recommendations based on the model evaluation results.s.\r\n",
    "\r\n",
    "#### Would you recommend using this model? Why or why not?\r\n",
    "Yes, I would recommend using this model. Both the Random Forest and XGBoost models demonstrated excellent performance, achieving perfect recall and precision scores on the test data. This indicates that the models are highly effective at distinguishing between claims and opinions in TikTok video transcriptions. Given the high accuracy and robustness of these models, they can be reliably used for content classification tasks on the platform.\r\n",
    "\r\n",
    "#### What was your model doing? Can you explain how it was making predictions?\r\n",
    "The models were trained to classify TikTok video transcriptions as either claims or opinions based on various features. Key features included video view count, hashtag count, and video like count. The models learned patterns and relationships between these features and the target variable (claim_status). For instance, videos with higher view counts and more hashtags were more likely to be classified as containing claims. The models used these learned patterns to make predictions on new, unseen data, effectively identifying whether a video transcription was a claim or an opinion.\r\n",
    "\r\n",
    "#### Are there new features that you can engineer that might improve model performance?\r\n",
    "While the current models performed exceptionally well, there are always opportunities for improvement. Potential new features that could be engineered to enhance model performance include:\r\n",
    "- **Sentiment Analysis**: Incorporating sentiment scores of the video transcriptions might provide additional context and improve classification accuracy.\r\n",
    "- **Engagement Metrics Over Time**: Analyzing the trend of engagement metrics (views, likes, comments) over time could offer deeper insights into the nature of the video content.\r\n",
    "- **User Behavior Features**: Features capturing user behavior, such as the frequency of posting claims versus opinions, could add value to the model.\r\n",
    "\r\n",
    "#### What features would you want to have that would likely improve the performance of your model?\r\n",
    "To further improve the model's performance, the following features would be valuable:\r\n",
    "- **Textual Features**: Advanced textual features such as TF-IDF scores, topic modeling results, or embeddings from pre-trained language models (e.g., BERT) could enhance the model's understanding of the content.\r\n",
    "- **User Demographics**: Information about the user's demographics, such as age, gender, and location, could help in understanding the context and audience of the content.\r\n",
    "- **Video Metadata**: Additional metadata such as video duration, upload time, and video description could provide useful context for the model.\r\n",
    "\r\n",
    "### Summary\r\n",
    "The models developed in this project have shown remarkable performance in classifying TikTok video transcriptions as claims or opinions. The key predictive features included video view count, hashtag count, and video like count. While the models are currently highly effective, incorporating additional features such as sentiment analysis and user behavior metrics could further enhance their performance. Overall, the models provide a robust solution for content classification on TikTok, enabling more efficient and accurate content moderation and analysis.\r\n"
   ]
  }
 ],
 "metadata": {
  "colab": {
   "provenance": [],
   "toc_visible": true
  },
  "kernelspec": {
   "display_name": "Python 3 (ipykernel)",
   "language": "python",
   "name": "python3"
  },
  "language_info": {
   "codemirror_mode": {
    "name": "ipython",
    "version": 3
   },
   "file_extension": ".py",
   "mimetype": "text/x-python",
   "name": "python",
   "nbconvert_exporter": "python",
   "pygments_lexer": "ipython3",
   "version": "3.8.19"
  }
 },
 "nbformat": 4,
 "nbformat_minor": 4
}
