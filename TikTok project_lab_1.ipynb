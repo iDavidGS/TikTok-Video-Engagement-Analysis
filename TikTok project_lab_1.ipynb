{
 "cells": [
  {
   "cell_type": "markdown",
   "metadata": {
    "id": "DtNBZFHO3M7n"
   },
   "source": [
    "# **TikTok Project**\n",
    "**Lab 1 - Get Started with Python**"
   ]
  },
  {
   "cell_type": "markdown",
   "metadata": {
    "id": "HjFGokxv2pc5"
   },
   "source": [
    "# **Identify data types and compile summary information**\n"
   ]
  },
  {
   "cell_type": "markdown",
   "metadata": {
    "id": "MRUYfzCb4vop"
   },
   "source": [
    "# **PACE stages**"
   ]
  },
  {
   "cell_type": "markdown",
   "metadata": {},
   "source": [
    "Throughout these project notebooks, you'll see references to the problem-solving framework PACE. The following notebook components are labeled with the respective PACE stage: Plan, Analyze, Construct, and Execute."
   ]
  },
  {
   "cell_type": "markdown",
   "metadata": {
    "id": "zRHb2QQWj99m"
   },
   "source": [
    "## **PACE: Plan**"
   ]
  },
  {
   "cell_type": "markdown",
   "metadata": {
    "id": "TD5rUDqtNoiH"
   },
   "source": [
    "### **Task 1. Understand the situation**\n",
    "\n",
    "*   **How can you best prepare to understand and organize the provided information?**"
   ]
  },
  {
   "cell_type": "markdown",
   "metadata": {
    "id": "C9WkTfMU4_mB"
   },
   "source": [
    "To best prepare for understanding and organizing the TikTok information, I have:\n",
    "- Explored the dataset using pandas commands like `head()`, `info()`, and `describe()` to gain an initial understanding of the data structure and summary statistics.\n",
    "- Reviewed the Data Dictionary to gather detailed information about each variable, especially focusing on key variables like 'claim_status.'\n",
    "- Identified any missing values in the dataset.\n",
    "- Explored unique values for categorical variables and observed the range and distribution of numerical variables.\n",
    "- Made initial observations, such as the diversity of 'claim_status' values and any patterns that might be relevant to the claims classification project.\n",
    "\n",
    "These steps lay the foundation for a comprehensive understanding of the TikTok dataset and will guide further exploratory data analysis."
   ]
  },
  {
   "cell_type": "markdown",
   "metadata": {
    "id": "1E9Y5aC0IAA-"
   },
   "source": [
    "## **PACE: Analyze**"
   ]
  },
  {
   "cell_type": "markdown",
   "metadata": {
    "id": "4I-fjg7pNOe4"
   },
   "source": [
    "### **Task 2a. Imports and data loading**"
   ]
  },
  {
   "cell_type": "code",
   "execution_count": 1,
   "metadata": {
    "id": "I4Jj3QLINOsL"
   },
   "outputs": [],
   "source": [
    "# Import packages\n",
    "import pandas as pd\n",
    "import numpy as np"
   ]
  },
  {
   "cell_type": "code",
   "execution_count": 2,
   "metadata": {
    "id": "oYk-rdaWNN4G"
   },
   "outputs": [],
   "source": [
    "# Load dataset into dataframe\n",
    "df = pd.read_csv(\"tiktok_dataset.csv\")"
   ]
  },
  {
   "cell_type": "markdown",
   "metadata": {
    "id": "L6KgK-M8o3we"
   },
   "source": [
    "### **Task 2b. Understand the data - Inspect the data**\n",
    "\n",
    "**Question 1:** When reviewing the first few rows of the dataframe, what do you observe about the data? What does each row represent?\n",
    "\n",
    "**Question 2:** When reviewing the `df.info()` output, what do you notice about the different variables? Are there any null values? Are all of the variables numeric? Does anything else stand out?\n",
    "\n",
    "**Question 3:** When reviewing the `df.describe()` output, what do you notice about the distributions of each variable? Are there any questionable values? Does it seem that there are outlier values?\n"
   ]
  },
  {
   "cell_type": "code",
   "execution_count": 3,
   "metadata": {
    "id": "pW7syBEskCS8"
   },
   "outputs": [
    {
     "data": {
      "text/html": [
       "<div>\n",
       "<style scoped>\n",
       "    .dataframe tbody tr th:only-of-type {\n",
       "        vertical-align: middle;\n",
       "    }\n",
       "\n",
       "    .dataframe tbody tr th {\n",
       "        vertical-align: top;\n",
       "    }\n",
       "\n",
       "    .dataframe thead th {\n",
       "        text-align: right;\n",
       "    }\n",
       "</style>\n",
       "<table border=\"1\" class=\"dataframe\">\n",
       "  <thead>\n",
       "    <tr style=\"text-align: right;\">\n",
       "      <th></th>\n",
       "      <th>#</th>\n",
       "      <th>claim_status</th>\n",
       "      <th>video_id</th>\n",
       "      <th>video_duration_sec</th>\n",
       "      <th>video_transcription_text</th>\n",
       "      <th>verified_status</th>\n",
       "      <th>author_ban_status</th>\n",
       "      <th>video_view_count</th>\n",
       "      <th>video_like_count</th>\n",
       "      <th>video_share_count</th>\n",
       "      <th>video_download_count</th>\n",
       "      <th>video_comment_count</th>\n",
       "    </tr>\n",
       "  </thead>\n",
       "  <tbody>\n",
       "    <tr>\n",
       "      <th>0</th>\n",
       "      <td>1</td>\n",
       "      <td>claim</td>\n",
       "      <td>7017666017</td>\n",
       "      <td>59</td>\n",
       "      <td>someone shared with me that drone deliveries a...</td>\n",
       "      <td>not verified</td>\n",
       "      <td>under review</td>\n",
       "      <td>343296.0</td>\n",
       "      <td>19425.0</td>\n",
       "      <td>241.0</td>\n",
       "      <td>1.0</td>\n",
       "      <td>0.0</td>\n",
       "    </tr>\n",
       "    <tr>\n",
       "      <th>1</th>\n",
       "      <td>2</td>\n",
       "      <td>claim</td>\n",
       "      <td>4014381136</td>\n",
       "      <td>32</td>\n",
       "      <td>someone shared with me that there are more mic...</td>\n",
       "      <td>not verified</td>\n",
       "      <td>active</td>\n",
       "      <td>140877.0</td>\n",
       "      <td>77355.0</td>\n",
       "      <td>19034.0</td>\n",
       "      <td>1161.0</td>\n",
       "      <td>684.0</td>\n",
       "    </tr>\n",
       "    <tr>\n",
       "      <th>2</th>\n",
       "      <td>3</td>\n",
       "      <td>claim</td>\n",
       "      <td>9859838091</td>\n",
       "      <td>31</td>\n",
       "      <td>someone shared with me that american industria...</td>\n",
       "      <td>not verified</td>\n",
       "      <td>active</td>\n",
       "      <td>902185.0</td>\n",
       "      <td>97690.0</td>\n",
       "      <td>2858.0</td>\n",
       "      <td>833.0</td>\n",
       "      <td>329.0</td>\n",
       "    </tr>\n",
       "    <tr>\n",
       "      <th>3</th>\n",
       "      <td>4</td>\n",
       "      <td>claim</td>\n",
       "      <td>1866847991</td>\n",
       "      <td>25</td>\n",
       "      <td>someone shared with me that the metro of st. p...</td>\n",
       "      <td>not verified</td>\n",
       "      <td>active</td>\n",
       "      <td>437506.0</td>\n",
       "      <td>239954.0</td>\n",
       "      <td>34812.0</td>\n",
       "      <td>1234.0</td>\n",
       "      <td>584.0</td>\n",
       "    </tr>\n",
       "    <tr>\n",
       "      <th>4</th>\n",
       "      <td>5</td>\n",
       "      <td>claim</td>\n",
       "      <td>7105231098</td>\n",
       "      <td>19</td>\n",
       "      <td>someone shared with me that the number of busi...</td>\n",
       "      <td>not verified</td>\n",
       "      <td>active</td>\n",
       "      <td>56167.0</td>\n",
       "      <td>34987.0</td>\n",
       "      <td>4110.0</td>\n",
       "      <td>547.0</td>\n",
       "      <td>152.0</td>\n",
       "    </tr>\n",
       "    <tr>\n",
       "      <th>5</th>\n",
       "      <td>6</td>\n",
       "      <td>claim</td>\n",
       "      <td>8972200955</td>\n",
       "      <td>35</td>\n",
       "      <td>someone shared with me that gross domestic pro...</td>\n",
       "      <td>not verified</td>\n",
       "      <td>under review</td>\n",
       "      <td>336647.0</td>\n",
       "      <td>175546.0</td>\n",
       "      <td>62303.0</td>\n",
       "      <td>4293.0</td>\n",
       "      <td>1857.0</td>\n",
       "    </tr>\n",
       "    <tr>\n",
       "      <th>6</th>\n",
       "      <td>7</td>\n",
       "      <td>claim</td>\n",
       "      <td>4958886992</td>\n",
       "      <td>16</td>\n",
       "      <td>someone shared with me that elvis presley has ...</td>\n",
       "      <td>not verified</td>\n",
       "      <td>active</td>\n",
       "      <td>750345.0</td>\n",
       "      <td>486192.0</td>\n",
       "      <td>193911.0</td>\n",
       "      <td>8616.0</td>\n",
       "      <td>5446.0</td>\n",
       "    </tr>\n",
       "    <tr>\n",
       "      <th>7</th>\n",
       "      <td>8</td>\n",
       "      <td>claim</td>\n",
       "      <td>2270982263</td>\n",
       "      <td>41</td>\n",
       "      <td>someone shared with me that the best selling s...</td>\n",
       "      <td>not verified</td>\n",
       "      <td>active</td>\n",
       "      <td>547532.0</td>\n",
       "      <td>1072.0</td>\n",
       "      <td>50.0</td>\n",
       "      <td>22.0</td>\n",
       "      <td>11.0</td>\n",
       "    </tr>\n",
       "    <tr>\n",
       "      <th>8</th>\n",
       "      <td>9</td>\n",
       "      <td>claim</td>\n",
       "      <td>5235769692</td>\n",
       "      <td>50</td>\n",
       "      <td>someone shared with me that about half of the ...</td>\n",
       "      <td>not verified</td>\n",
       "      <td>active</td>\n",
       "      <td>24819.0</td>\n",
       "      <td>10160.0</td>\n",
       "      <td>1050.0</td>\n",
       "      <td>53.0</td>\n",
       "      <td>27.0</td>\n",
       "    </tr>\n",
       "    <tr>\n",
       "      <th>9</th>\n",
       "      <td>10</td>\n",
       "      <td>claim</td>\n",
       "      <td>4660861094</td>\n",
       "      <td>45</td>\n",
       "      <td>someone shared with me that it would take a 50...</td>\n",
       "      <td>verified</td>\n",
       "      <td>active</td>\n",
       "      <td>931587.0</td>\n",
       "      <td>171051.0</td>\n",
       "      <td>67739.0</td>\n",
       "      <td>4104.0</td>\n",
       "      <td>2540.0</td>\n",
       "    </tr>\n",
       "  </tbody>\n",
       "</table>\n",
       "</div>"
      ],
      "text/plain": [
       "    # claim_status    video_id  video_duration_sec  \\\n",
       "0   1        claim  7017666017                  59   \n",
       "1   2        claim  4014381136                  32   \n",
       "2   3        claim  9859838091                  31   \n",
       "3   4        claim  1866847991                  25   \n",
       "4   5        claim  7105231098                  19   \n",
       "5   6        claim  8972200955                  35   \n",
       "6   7        claim  4958886992                  16   \n",
       "7   8        claim  2270982263                  41   \n",
       "8   9        claim  5235769692                  50   \n",
       "9  10        claim  4660861094                  45   \n",
       "\n",
       "                            video_transcription_text verified_status  \\\n",
       "0  someone shared with me that drone deliveries a...    not verified   \n",
       "1  someone shared with me that there are more mic...    not verified   \n",
       "2  someone shared with me that american industria...    not verified   \n",
       "3  someone shared with me that the metro of st. p...    not verified   \n",
       "4  someone shared with me that the number of busi...    not verified   \n",
       "5  someone shared with me that gross domestic pro...    not verified   \n",
       "6  someone shared with me that elvis presley has ...    not verified   \n",
       "7  someone shared with me that the best selling s...    not verified   \n",
       "8  someone shared with me that about half of the ...    not verified   \n",
       "9  someone shared with me that it would take a 50...        verified   \n",
       "\n",
       "  author_ban_status  video_view_count  video_like_count  video_share_count  \\\n",
       "0      under review          343296.0           19425.0              241.0   \n",
       "1            active          140877.0           77355.0            19034.0   \n",
       "2            active          902185.0           97690.0             2858.0   \n",
       "3            active          437506.0          239954.0            34812.0   \n",
       "4            active           56167.0           34987.0             4110.0   \n",
       "5      under review          336647.0          175546.0            62303.0   \n",
       "6            active          750345.0          486192.0           193911.0   \n",
       "7            active          547532.0            1072.0               50.0   \n",
       "8            active           24819.0           10160.0             1050.0   \n",
       "9            active          931587.0          171051.0            67739.0   \n",
       "\n",
       "   video_download_count  video_comment_count  \n",
       "0                   1.0                  0.0  \n",
       "1                1161.0                684.0  \n",
       "2                 833.0                329.0  \n",
       "3                1234.0                584.0  \n",
       "4                 547.0                152.0  \n",
       "5                4293.0               1857.0  \n",
       "6                8616.0               5446.0  \n",
       "7                  22.0                 11.0  \n",
       "8                  53.0                 27.0  \n",
       "9                4104.0               2540.0  "
      ]
     },
     "execution_count": 3,
     "metadata": {},
     "output_type": "execute_result"
    }
   ],
   "source": [
    "# Display and examine the first ten rows of the dataframe\n",
    "df.head(10)\n"
   ]
  },
  {
   "cell_type": "markdown",
   "metadata": {
    "id": "jrENd-iQZRdA"
   },
   "source": [
    "### Question 1:\n",
    "\n",
    "Each row represents a specific video on TikTok, and each column provides information about that video.\n",
    "\n",
    "In the `df.head(10)` output:\n",
    "\n",
    "- The 'claim_status' column represents the claim status of each video (e.g., \"claim\").\n",
    "- 'video_id' is an identifier for each video.\n",
    "- 'video_duration_sec' represents the duration of the videos in seconds.\n",
    "- 'video_transcription_text' provides text related to the video.\n",
    "- 'verified_status' indicates whether the video is verified or not.\n",
    "- 'author_ban_status' shows the ban status of the author.\n",
    "- 'video_view_count', 'video_like_count', 'video_share_count', 'video_download_count', 'video_comment_count' represent different engagement metrics."
   ]
  },
  {
   "cell_type": "code",
   "execution_count": 4,
   "metadata": {
    "id": "uo90wIjK7z-k"
   },
   "outputs": [
    {
     "name": "stdout",
     "output_type": "stream",
     "text": [
      "<class 'pandas.core.frame.DataFrame'>\n",
      "RangeIndex: 19382 entries, 0 to 19381\n",
      "Data columns (total 12 columns):\n",
      " #   Column                    Non-Null Count  Dtype  \n",
      "---  ------                    --------------  -----  \n",
      " 0   #                         19382 non-null  int64  \n",
      " 1   claim_status              19084 non-null  object \n",
      " 2   video_id                  19382 non-null  int64  \n",
      " 3   video_duration_sec        19382 non-null  int64  \n",
      " 4   video_transcription_text  19084 non-null  object \n",
      " 5   verified_status           19382 non-null  object \n",
      " 6   author_ban_status         19382 non-null  object \n",
      " 7   video_view_count          19084 non-null  float64\n",
      " 8   video_like_count          19084 non-null  float64\n",
      " 9   video_share_count         19084 non-null  float64\n",
      " 10  video_download_count      19084 non-null  float64\n",
      " 11  video_comment_count       19084 non-null  float64\n",
      "dtypes: float64(5), int64(3), object(4)\n",
      "memory usage: 1.8+ MB\n"
     ]
    }
   ],
   "source": [
    "# Get summary info\n",
    "df.info()"
   ]
  },
  {
   "cell_type": "markdown",
   "metadata": {},
   "source": [
    "### Question 2:\n",
    "\n",
    "The dataset contains both categorical and numerical variables. The presence of null values in various columns suggests the need for handling missing data during the data preparation process.\n",
    "\n",
    "**Non-null values:**\n",
    "\n",
    "- 'claim_status', 'video_transcription_text', 'video_view_count', 'video_like_count', 'video_share_count', 'video_download_count', 'video_comment_count' have non-null values.\n",
    "\n",
    "**Data types:**\n",
    "\n",
    "- 'claim_status' and 'video_transcription_text' are of object type, indicating categorical or text data.\n",
    "- 'video_view_count', 'video_like_count', 'video_share_count', 'video_download_count', 'video_comment_count' are of float type, suggesting they contain numerical data.\n",
    "\n",
    "**Null values:**\n",
    "\n",
    "There are null values in 'claim_status', 'video_transcription_text', 'video_view_count', 'video_like_count', 'video_share_count', 'video_download_count', 'video_comment_count'."
   ]
  },
  {
   "cell_type": "code",
   "execution_count": 5,
   "metadata": {
    "id": "rrdPW1l67zrR"
   },
   "outputs": [
    {
     "data": {
      "text/html": [
       "<div>\n",
       "<style scoped>\n",
       "    .dataframe tbody tr th:only-of-type {\n",
       "        vertical-align: middle;\n",
       "    }\n",
       "\n",
       "    .dataframe tbody tr th {\n",
       "        vertical-align: top;\n",
       "    }\n",
       "\n",
       "    .dataframe thead th {\n",
       "        text-align: right;\n",
       "    }\n",
       "</style>\n",
       "<table border=\"1\" class=\"dataframe\">\n",
       "  <thead>\n",
       "    <tr style=\"text-align: right;\">\n",
       "      <th></th>\n",
       "      <th>#</th>\n",
       "      <th>video_id</th>\n",
       "      <th>video_duration_sec</th>\n",
       "      <th>video_view_count</th>\n",
       "      <th>video_like_count</th>\n",
       "      <th>video_share_count</th>\n",
       "      <th>video_download_count</th>\n",
       "      <th>video_comment_count</th>\n",
       "    </tr>\n",
       "  </thead>\n",
       "  <tbody>\n",
       "    <tr>\n",
       "      <th>count</th>\n",
       "      <td>19382.000000</td>\n",
       "      <td>1.938200e+04</td>\n",
       "      <td>19382.000000</td>\n",
       "      <td>19084.000000</td>\n",
       "      <td>19084.000000</td>\n",
       "      <td>19084.000000</td>\n",
       "      <td>19084.000000</td>\n",
       "      <td>19084.000000</td>\n",
       "    </tr>\n",
       "    <tr>\n",
       "      <th>mean</th>\n",
       "      <td>9691.500000</td>\n",
       "      <td>5.627454e+09</td>\n",
       "      <td>32.421732</td>\n",
       "      <td>254708.558688</td>\n",
       "      <td>84304.636030</td>\n",
       "      <td>16735.248323</td>\n",
       "      <td>1049.429627</td>\n",
       "      <td>349.312146</td>\n",
       "    </tr>\n",
       "    <tr>\n",
       "      <th>std</th>\n",
       "      <td>5595.245794</td>\n",
       "      <td>2.536440e+09</td>\n",
       "      <td>16.229967</td>\n",
       "      <td>322893.280814</td>\n",
       "      <td>133420.546814</td>\n",
       "      <td>32036.174350</td>\n",
       "      <td>2004.299894</td>\n",
       "      <td>799.638865</td>\n",
       "    </tr>\n",
       "    <tr>\n",
       "      <th>min</th>\n",
       "      <td>1.000000</td>\n",
       "      <td>1.234959e+09</td>\n",
       "      <td>5.000000</td>\n",
       "      <td>20.000000</td>\n",
       "      <td>0.000000</td>\n",
       "      <td>0.000000</td>\n",
       "      <td>0.000000</td>\n",
       "      <td>0.000000</td>\n",
       "    </tr>\n",
       "    <tr>\n",
       "      <th>25%</th>\n",
       "      <td>4846.250000</td>\n",
       "      <td>3.430417e+09</td>\n",
       "      <td>18.000000</td>\n",
       "      <td>4942.500000</td>\n",
       "      <td>810.750000</td>\n",
       "      <td>115.000000</td>\n",
       "      <td>7.000000</td>\n",
       "      <td>1.000000</td>\n",
       "    </tr>\n",
       "    <tr>\n",
       "      <th>50%</th>\n",
       "      <td>9691.500000</td>\n",
       "      <td>5.618664e+09</td>\n",
       "      <td>32.000000</td>\n",
       "      <td>9954.500000</td>\n",
       "      <td>3403.500000</td>\n",
       "      <td>717.000000</td>\n",
       "      <td>46.000000</td>\n",
       "      <td>9.000000</td>\n",
       "    </tr>\n",
       "    <tr>\n",
       "      <th>75%</th>\n",
       "      <td>14536.750000</td>\n",
       "      <td>7.843960e+09</td>\n",
       "      <td>47.000000</td>\n",
       "      <td>504327.000000</td>\n",
       "      <td>125020.000000</td>\n",
       "      <td>18222.000000</td>\n",
       "      <td>1156.250000</td>\n",
       "      <td>292.000000</td>\n",
       "    </tr>\n",
       "    <tr>\n",
       "      <th>max</th>\n",
       "      <td>19382.000000</td>\n",
       "      <td>9.999873e+09</td>\n",
       "      <td>60.000000</td>\n",
       "      <td>999817.000000</td>\n",
       "      <td>657830.000000</td>\n",
       "      <td>256130.000000</td>\n",
       "      <td>14994.000000</td>\n",
       "      <td>9599.000000</td>\n",
       "    </tr>\n",
       "  </tbody>\n",
       "</table>\n",
       "</div>"
      ],
      "text/plain": [
       "                  #      video_id  video_duration_sec  video_view_count  \\\n",
       "count  19382.000000  1.938200e+04        19382.000000      19084.000000   \n",
       "mean    9691.500000  5.627454e+09           32.421732     254708.558688   \n",
       "std     5595.245794  2.536440e+09           16.229967     322893.280814   \n",
       "min        1.000000  1.234959e+09            5.000000         20.000000   \n",
       "25%     4846.250000  3.430417e+09           18.000000       4942.500000   \n",
       "50%     9691.500000  5.618664e+09           32.000000       9954.500000   \n",
       "75%    14536.750000  7.843960e+09           47.000000     504327.000000   \n",
       "max    19382.000000  9.999873e+09           60.000000     999817.000000   \n",
       "\n",
       "       video_like_count  video_share_count  video_download_count  \\\n",
       "count      19084.000000       19084.000000          19084.000000   \n",
       "mean       84304.636030       16735.248323           1049.429627   \n",
       "std       133420.546814       32036.174350           2004.299894   \n",
       "min            0.000000           0.000000              0.000000   \n",
       "25%          810.750000         115.000000              7.000000   \n",
       "50%         3403.500000         717.000000             46.000000   \n",
       "75%       125020.000000       18222.000000           1156.250000   \n",
       "max       657830.000000      256130.000000          14994.000000   \n",
       "\n",
       "       video_comment_count  \n",
       "count         19084.000000  \n",
       "mean            349.312146  \n",
       "std             799.638865  \n",
       "min               0.000000  \n",
       "25%               1.000000  \n",
       "50%               9.000000  \n",
       "75%             292.000000  \n",
       "max            9599.000000  "
      ]
     },
     "execution_count": 5,
     "metadata": {},
     "output_type": "execute_result"
    }
   ],
   "source": [
    "# Get summary statistics\n",
    "df.describe()"
   ]
  },
  {
   "cell_type": "markdown",
   "metadata": {},
   "source": [
    "### Question 3:\n",
    "\n",
    "The `df.describe()` output:\n",
    "\n",
    "**Count:**\n",
    "\n",
    "- The 'count' row indicates the number of non-null values for each variable.\n",
    "- All columns have 19,382 entries except for 'claim_status', 'video_transcription_text', 'video_view_count', 'video_like_count', 'video_share_count', 'video_download_count', and 'video_comment_count', which have fewer non-null values.\n",
    "\n",
    "**Mean:**\n",
    "\n",
    "- 'video_duration_sec' has a mean of approximately 32.42 seconds.\n",
    "- 'video_view_count' has a mean of approximately 254,708.56, suggesting a substantial average number of views.\n",
    "\n",
    "**Standard Deviation (std):**\n",
    "\n",
    "- 'video_duration_sec' has a standard deviation of approximately 16.23 seconds.\n",
    "- Engagement metrics ('video_view_count', 'video_like_count', 'video_share_count', 'video_download_count', 'video_comment_count') have relatively large standard deviations, indicating considerable variability in these metrics.\n",
    "\n",
    "**Min and Max:**\n",
    "\n",
    "- 'video_duration_sec' ranges from a minimum of 5 seconds to a maximum of 60 seconds.\n",
    "- 'video_view_count', 'video_like_count', 'video_share_count', 'video_download_count', 'video_comment_count' have varying ranges, with maximum values much higher than their respective means.\n",
    "\n",
    "**Additional Observations:**\n",
    "\n",
    "- The 'video_duration_sec' appears to have a reasonable range for video durations.\n",
    "- The engagement metrics exhibit significant variability, with high maximum values indicating potential outliers or highly popular videos."
   ]
  },
  {
   "cell_type": "markdown",
   "metadata": {
    "id": "gYx1emvno7U_"
   },
   "source": [
    "### **Task 2c. Understand the data - Investigate the variables**"
   ]
  },
  {
   "cell_type": "code",
   "execution_count": 7,
   "metadata": {
    "id": "Kb8fPcw3rvvo"
   },
   "outputs": [
    {
     "name": "stdout",
     "output_type": "stream",
     "text": [
      "claim_status\n",
      "claim      9608\n",
      "opinion    9476\n",
      "Name: count, dtype: int64\n"
     ]
    }
   ],
   "source": [
    "# What are the different values for claim status and how many of each are in the data?\n",
    "claim_status_counts = df['claim_status'].value_counts()\n",
    "print(claim_status_counts)\n"
   ]
  },
  {
   "cell_type": "markdown",
   "metadata": {
    "id": "QSE317zdZp1q"
   },
   "source": [
    "**Question:** What do you notice about the values shown?\n",
    "\n",
    "The output of claim_status_counts show the counts of each unique value in the 'claim_status' column."
   ]
  },
  {
   "cell_type": "code",
   "execution_count": 8,
   "metadata": {
    "id": "fuwMO66VCri1"
   },
   "outputs": [
    {
     "name": "stdout",
     "output_type": "stream",
     "text": [
      "Mean View Count for  Claim Videos 501029.4527477102\n",
      "Median View Count for Claim Videos 501555.0\n"
     ]
    }
   ],
   "source": [
    "# What is the average view count of videos with \"claim\" status?\n",
    "\n",
    "# Calculate the mean view count for videos \"claim\" status\n",
    "mean_view_count_claim = df[df['claim_status'] == 'claim']['video_view_count'].mean()\n",
    "\n",
    "# Calculate the median view count for videos with \"claim\" status\n",
    "median_view_count_claim = df[df['claim_status'] == 'claim']['video_view_count'].median()\n",
    "\n",
    "print(\"Mean View Count for  Claim Videos\", mean_view_count_claim)\n",
    "print(\"Median View Count for Claim Videos\", median_view_count_claim)"
   ]
  },
  {
   "cell_type": "code",
   "execution_count": 10,
   "metadata": {
    "id": "FCRPxmpHCrQW"
   },
   "outputs": [
    {
     "name": "stdout",
     "output_type": "stream",
     "text": [
      "Mean View Count for Opinion Videos 4956.43224989447\n",
      "Median View Count for Opinion Videos 4953.0\n"
     ]
    }
   ],
   "source": [
    "# What is the average view count of videos with \"opinion\" status?\n",
    "\n",
    "# Calculate the mean view count for videos with \"opinion\" status\n",
    "mean_view_count_opinion = df[df['claim_status'] == 'opinion']['video_view_count'].mean()\n",
    "\n",
    "# Calculate the median view count for videos with \"opinion\" status\n",
    "median_view_count_opinion = df[df['claim_status'] == 'opinion']['video_view_count'].median()\n",
    "\n",
    "print(\"Mean View Count for Opinion Videos\", mean_view_count_opinion)\n",
    "print(\"Median View Count for Opinion Videos\", median_view_count_opinion)\n"
   ]
  },
  {
   "cell_type": "markdown",
   "metadata": {
    "id": "6zIf6L7cC9be"
   },
   "source": [
    "**Question:** What do you notice about the mean and media within each claim category?\n",
    "\n",
    "These results indicate that, on average, videos in the \"claim\" category have significantly higher view counts compared to those in the \"opinion\" category. The median values, which are less sensitive to extreme values, also follow a similar pattern.\n",
    "\n",
    "Now, examine trends associated with the ban status of the author.\n",
    "\n",
    "Use `groupby()` to calculate how many videos there are for each combination of categories of claim status and author ban status."
   ]
  },
  {
   "cell_type": "code",
   "execution_count": 11,
   "metadata": {
    "id": "Luu6W5b7DGtt"
   },
   "outputs": [
    {
     "name": "stdout",
     "output_type": "stream",
     "text": [
      "author_ban_status  active  banned  under review\n",
      "claim_status                                   \n",
      "claim                6566    1439          1603\n",
      "opinion              8817     196           463\n"
     ]
    }
   ],
   "source": [
    "# Get counts for each group combination of claim status and author ban status\n",
    "grouped_counts = df.groupby(['claim_status', 'author_ban_status']).size().unstack()\n",
    "print(grouped_counts)\n"
   ]
  },
  {
   "cell_type": "markdown",
   "metadata": {
    "id": "xWpGkxCTDHlE"
   },
   "source": [
    "**Question:** What do you notice about the number of claims videos with banned authors? Why might this relationship occur?\n",
    "\n",
    "The table shows the counts of videos based on the combination of claim status and author ban status. Here are the observations:\n",
    "\n",
    "1.  **Claim Videos with Banned Authors:**\n",
    "    *   There are 1,439 claim videos with banned authors.\n",
    "    *   This relationship suggests that a notable number of videos categorized as \"claims\" are created by authors who have been banned.\n",
    "    *   The reason for this relationship could be that banned authors might be more likely to share controversial or unverified content, leading to a higher proportion of claims in their videos.\n",
    "\n",
    "*Note: It is essential to further investigate the content and context of these videos to understand the correlation between claim status and author ban status.*\n",
    "\n",
    "Continue investigating engagement levels, now focusing on `author_ban_status`.\n",
    "\n",
    "Calculate the median video share count of each author ban status."
   ]
  },
  {
   "cell_type": "code",
   "execution_count": 12,
   "metadata": {
    "id": "V9eIkY8TENkK"
   },
   "outputs": [
    {
     "data": {
      "text/plain": [
       "author_ban_status\n",
       "active            437.0\n",
       "banned          14468.0\n",
       "under review     9444.0\n",
       "Name: video_share_count, dtype: float64"
      ]
     },
     "execution_count": 12,
     "metadata": {},
     "output_type": "execute_result"
    }
   ],
   "source": [
    "# What's the median video share count of each author ban status?\n",
    "\n",
    "# Calculate the median video share of each author ban status\n",
    "median_share_count_by_author_ban = df.groupby('author_ban_status')['video_share_count'].median()\n",
    "median_share_count_by_author_ban\n"
   ]
  },
  {
   "cell_type": "markdown",
   "metadata": {
    "id": "gLLZObEHEOQf"
   },
   "source": [
    "**Question:** What do you notice about the share count of banned authors, compared to that of active authors? Explore this in more depth.\n",
    "\n",
    "The median video share count for banned authors (14,468) is significantly higher than that for active authors (437). This suggests that videos created by banned authors tend to have a much higher share count. It may be worth exploring the reasons behind this difference, such as the controversial nature of the content or increased attention due to the ban status. Further analysis and context about the video content and the reasons for author bans could provide more insights into this observation.\n"
   ]
  },
  {
   "cell_type": "code",
   "execution_count": 13,
   "metadata": {
    "id": "fVlTvmO-Ebgc"
   },
   "outputs": [
    {
     "data": {
      "text/html": [
       "<div>\n",
       "<style scoped>\n",
       "    .dataframe tbody tr th:only-of-type {\n",
       "        vertical-align: middle;\n",
       "    }\n",
       "\n",
       "    .dataframe tbody tr th {\n",
       "        vertical-align: top;\n",
       "    }\n",
       "\n",
       "    .dataframe thead tr th {\n",
       "        text-align: left;\n",
       "    }\n",
       "</style>\n",
       "<table border=\"1\" class=\"dataframe\">\n",
       "  <thead>\n",
       "    <tr>\n",
       "      <th></th>\n",
       "      <th>author_ban_status</th>\n",
       "      <th colspan=\"3\" halign=\"left\">video_view_count</th>\n",
       "      <th colspan=\"2\" halign=\"left\">video_like_count</th>\n",
       "      <th colspan=\"2\" halign=\"left\">video_share_count</th>\n",
       "    </tr>\n",
       "    <tr>\n",
       "      <th></th>\n",
       "      <th></th>\n",
       "      <th>count</th>\n",
       "      <th>mean</th>\n",
       "      <th>median</th>\n",
       "      <th>mean</th>\n",
       "      <th>median</th>\n",
       "      <th>mean</th>\n",
       "      <th>median</th>\n",
       "    </tr>\n",
       "  </thead>\n",
       "  <tbody>\n",
       "    <tr>\n",
       "      <th>0</th>\n",
       "      <td>active</td>\n",
       "      <td>15383</td>\n",
       "      <td>215927.039524</td>\n",
       "      <td>8616.0</td>\n",
       "      <td>71036.533836</td>\n",
       "      <td>2222.0</td>\n",
       "      <td>14111.466164</td>\n",
       "      <td>437.0</td>\n",
       "    </tr>\n",
       "    <tr>\n",
       "      <th>1</th>\n",
       "      <td>banned</td>\n",
       "      <td>1635</td>\n",
       "      <td>445845.439144</td>\n",
       "      <td>448201.0</td>\n",
       "      <td>153017.236697</td>\n",
       "      <td>105573.0</td>\n",
       "      <td>29998.942508</td>\n",
       "      <td>14468.0</td>\n",
       "    </tr>\n",
       "    <tr>\n",
       "      <th>2</th>\n",
       "      <td>under review</td>\n",
       "      <td>2066</td>\n",
       "      <td>392204.836399</td>\n",
       "      <td>365245.5</td>\n",
       "      <td>128718.050339</td>\n",
       "      <td>71204.5</td>\n",
       "      <td>25774.696999</td>\n",
       "      <td>9444.0</td>\n",
       "    </tr>\n",
       "  </tbody>\n",
       "</table>\n",
       "</div>"
      ],
      "text/plain": [
       "  author_ban_status video_view_count                           \\\n",
       "                               count           mean    median   \n",
       "0            active            15383  215927.039524    8616.0   \n",
       "1            banned             1635  445845.439144  448201.0   \n",
       "2      under review             2066  392204.836399  365245.5   \n",
       "\n",
       "  video_like_count           video_share_count           \n",
       "              mean    median              mean   median  \n",
       "0     71036.533836    2222.0      14111.466164    437.0  \n",
       "1    153017.236697  105573.0      29998.942508  14468.0  \n",
       "2    128718.050339   71204.5      25774.696999   9444.0  "
      ]
     },
     "execution_count": 13,
     "metadata": {},
     "output_type": "execute_result"
    }
   ],
   "source": [
    "# Group by author_ban_status and calculate count, mean and median for each specified column\n",
    "grouped_data = df.groupby('author_ban_status').agg({\n",
    "    'video_view_count': ['count', 'mean', 'median'],\n",
    "    'video_like_count': ['mean', 'median'],\n",
    "    'video_share_count': ['mean', 'median']\n",
    "}).reset_index()\n",
    "\n",
    "# Display the grouped data\n",
    "grouped_data"
   ]
  },
  {
   "cell_type": "markdown",
   "metadata": {
    "id": "i7R3vKUhEb8_"
   },
   "source": [
    "**Question:** What do you notice about the number of views, likes, and shares for banned authors compared to active authors?\n",
    "\n",
    "The grouped data provides insights into the engagement levels for videos associated with different author ban statuses:\n",
    "\n",
    "**Number of Views:**\n",
    "   - Banned authors have a higher mean and median view count compared to active authors.\n",
    "   - Videos from authors under review fall between active and banned authors but are closer to the active category.\n",
    "\n",
    "**Number of Likes:**\n",
    "   - Banned authors have a higher mean and median like count compared to active authors.\n",
    "   - Videos from authors under review again fall between active and banned authors but are closer to the active category.\n",
    "\n",
    "**Number of Shares:**\n",
    "   - Banned authors have a higher mean and median share count compared to active authors.\n",
    "   - Videos from authors under review fall between active and banned authors but are closer to the active category.\n",
    "\n",
    "In summary, videos from banned authors generally exhibit higher engagement levels (views, likes, and shares) compared to videos from active authors. The engagement levels for videos from authors under review are intermediate between active and banned authors but tend to be closer to the active category.\n"
   ]
  },
  {
   "cell_type": "code",
   "execution_count": 14,
   "metadata": {
    "id": "eyymCn6oFDP3"
   },
   "outputs": [],
   "source": [
    "# Create a likes_per_view column\n",
    "df['likes_per_view'] = df['video_like_count'] / df['video_view_count']\n",
    "\n",
    "# Create a comments_per_view column\n",
    "df['comments_per_view'] = df['video_comment_count'] / df['video_view_count']\n",
    "\n",
    "# Create a shares_per_view column\n",
    "df['shares_per_view'] = df['video_share_count'] / df['video_view_count']"
   ]
  },
  {
   "cell_type": "code",
   "execution_count": 15,
   "metadata": {
    "id": "WZoK3_-bFPW2"
   },
   "outputs": [
    {
     "data": {
      "text/html": [
       "<div>\n",
       "<style scoped>\n",
       "    .dataframe tbody tr th:only-of-type {\n",
       "        vertical-align: middle;\n",
       "    }\n",
       "\n",
       "    .dataframe tbody tr th {\n",
       "        vertical-align: top;\n",
       "    }\n",
       "\n",
       "    .dataframe thead th {\n",
       "        text-align: right;\n",
       "    }\n",
       "</style>\n",
       "<table border=\"1\" class=\"dataframe\">\n",
       "  <thead>\n",
       "    <tr style=\"text-align: right;\">\n",
       "      <th></th>\n",
       "      <th>claim_status</th>\n",
       "      <th>author_ban_status</th>\n",
       "      <th>likes_count</th>\n",
       "      <th>likes_per_view_mean</th>\n",
       "      <th>comments_per_view_median</th>\n",
       "      <th>comments_count</th>\n",
       "      <th>comments_per_view_mean</th>\n",
       "      <th>comments_per_view_median</th>\n",
       "      <th>shares_count</th>\n",
       "      <th>shares_per_view_mean</th>\n",
       "      <th>shares_per_view_median</th>\n",
       "    </tr>\n",
       "  </thead>\n",
       "  <tbody>\n",
       "    <tr>\n",
       "      <th>0</th>\n",
       "      <td>claim</td>\n",
       "      <td>active</td>\n",
       "      <td>6566</td>\n",
       "      <td>0.329542</td>\n",
       "      <td>0.326538</td>\n",
       "      <td>6566</td>\n",
       "      <td>0.001393</td>\n",
       "      <td>0.000776</td>\n",
       "      <td>6566</td>\n",
       "      <td>0.065456</td>\n",
       "      <td>0.049279</td>\n",
       "    </tr>\n",
       "    <tr>\n",
       "      <th>1</th>\n",
       "      <td>claim</td>\n",
       "      <td>banned</td>\n",
       "      <td>1439</td>\n",
       "      <td>0.345071</td>\n",
       "      <td>0.358909</td>\n",
       "      <td>1439</td>\n",
       "      <td>0.001377</td>\n",
       "      <td>0.000746</td>\n",
       "      <td>1439</td>\n",
       "      <td>0.067893</td>\n",
       "      <td>0.051606</td>\n",
       "    </tr>\n",
       "    <tr>\n",
       "      <th>2</th>\n",
       "      <td>claim</td>\n",
       "      <td>under review</td>\n",
       "      <td>1603</td>\n",
       "      <td>0.327997</td>\n",
       "      <td>0.320867</td>\n",
       "      <td>1603</td>\n",
       "      <td>0.001367</td>\n",
       "      <td>0.000789</td>\n",
       "      <td>1603</td>\n",
       "      <td>0.065733</td>\n",
       "      <td>0.049967</td>\n",
       "    </tr>\n",
       "    <tr>\n",
       "      <th>3</th>\n",
       "      <td>opinion</td>\n",
       "      <td>active</td>\n",
       "      <td>8817</td>\n",
       "      <td>0.219744</td>\n",
       "      <td>0.218330</td>\n",
       "      <td>8817</td>\n",
       "      <td>0.000517</td>\n",
       "      <td>0.000252</td>\n",
       "      <td>8817</td>\n",
       "      <td>0.043729</td>\n",
       "      <td>0.032405</td>\n",
       "    </tr>\n",
       "    <tr>\n",
       "      <th>4</th>\n",
       "      <td>opinion</td>\n",
       "      <td>banned</td>\n",
       "      <td>196</td>\n",
       "      <td>0.206868</td>\n",
       "      <td>0.198483</td>\n",
       "      <td>196</td>\n",
       "      <td>0.000434</td>\n",
       "      <td>0.000193</td>\n",
       "      <td>196</td>\n",
       "      <td>0.040531</td>\n",
       "      <td>0.030728</td>\n",
       "    </tr>\n",
       "    <tr>\n",
       "      <th>5</th>\n",
       "      <td>opinion</td>\n",
       "      <td>under review</td>\n",
       "      <td>463</td>\n",
       "      <td>0.226394</td>\n",
       "      <td>0.228051</td>\n",
       "      <td>463</td>\n",
       "      <td>0.000536</td>\n",
       "      <td>0.000293</td>\n",
       "      <td>463</td>\n",
       "      <td>0.044472</td>\n",
       "      <td>0.035027</td>\n",
       "    </tr>\n",
       "  </tbody>\n",
       "</table>\n",
       "</div>"
      ],
      "text/plain": [
       "  claim_status author_ban_status  likes_count  likes_per_view_mean  \\\n",
       "0        claim            active         6566             0.329542   \n",
       "1        claim            banned         1439             0.345071   \n",
       "2        claim      under review         1603             0.327997   \n",
       "3      opinion            active         8817             0.219744   \n",
       "4      opinion            banned          196             0.206868   \n",
       "5      opinion      under review          463             0.226394   \n",
       "\n",
       "   comments_per_view_median  comments_count  comments_per_view_mean  \\\n",
       "0                  0.326538            6566                0.001393   \n",
       "1                  0.358909            1439                0.001377   \n",
       "2                  0.320867            1603                0.001367   \n",
       "3                  0.218330            8817                0.000517   \n",
       "4                  0.198483             196                0.000434   \n",
       "5                  0.228051             463                0.000536   \n",
       "\n",
       "   comments_per_view_median  shares_count  shares_per_view_mean  \\\n",
       "0                  0.000776          6566              0.065456   \n",
       "1                  0.000746          1439              0.067893   \n",
       "2                  0.000789          1603              0.065733   \n",
       "3                  0.000252          8817              0.043729   \n",
       "4                  0.000193           196              0.040531   \n",
       "5                  0.000293           463              0.044472   \n",
       "\n",
       "   shares_per_view_median  \n",
       "0                0.049279  \n",
       "1                0.051606  \n",
       "2                0.049967  \n",
       "3                0.032405  \n",
       "4                0.030728  \n",
       "5                0.035027  "
      ]
     },
     "execution_count": 15,
     "metadata": {},
     "output_type": "execute_result"
    }
   ],
   "source": [
    "# Group by claim status and author ban status, then aggregate information on the new columns\n",
    "engagement_rates = df.groupby(['claim_status', 'author_ban_status']).agg({\n",
    "    'likes_per_view': ['count', 'mean', 'median'],\n",
    "    'comments_per_view': ['count', 'mean', 'median'],\n",
    "    'shares_per_view': ['count', 'mean', 'median']\n",
    "}).reset_index()\n",
    "\n",
    "# Rename the column for clarity\n",
    "engagement_rates.columns = [\n",
    "    'claim_status', 'author_ban_status',\n",
    "    'likes_count', 'likes_per_view_mean', 'comments_per_view_median',\n",
    "    'comments_count', 'comments_per_view_mean', 'comments_per_view_median',\n",
    "    'shares_count', 'shares_per_view_mean', 'shares_per_view_median'\n",
    "]\n",
    "\n",
    "# Display the compiled information\n",
    "engagement_rates"
   ]
  },
  {
   "cell_type": "markdown",
   "metadata": {
    "id": "RLhoV4xDFp_o"
   },
   "source": [
    "**Question:**\n",
    "\n",
    "How does the data for claim videos and opinion videos compare or differ? Consider views, comments, likes, and shares.\n",
    "\n",
    "The comparison between claim and opinion videos reveals several differences in engagement rates:\n",
    "\n",
    "1. **Likes per View:**\n",
    "   - Claim videos have a higher average likes per view compared to opinion videos.\n",
    "   - The median likes per view is also slightly higher for claim videos.\n",
    "\n",
    "2. **Comments per View:**\n",
    "   - Claim videos have a higher average and median comments per view compared to opinion videos.\n",
    "   - This indicates that claim videos tend to receive more comments relative to the number of views.\n",
    "\n",
    "3. **Shares per View:**\n",
    "   - Claim videos have a higher average and median shares per view compared to opinion videos.\n",
    "   - This suggests that claim videos are shared more frequently relative to the number of views.\n",
    "\n",
    "4. **Views:**\n",
    "   - The comparison of total views is not explicitly provided in the current results but can be inferred from the engagement rates.\n",
    "   - It appears that claim videos generally receive more views, comments, likes, and shares on average than opinion videos.\n",
    "\n",
    "In summary, claim videos exhibit higher engagement rates across likes, comments, and shares per view compared to opinion videos. This suggests that claim videos attract more interaction and sharing from viewers.\n"
   ]
  },
  {
   "cell_type": "markdown",
   "metadata": {
    "id": "tF_82VLgzrQm"
   },
   "source": [
    "## **PACE: Construct**\n",
    "\n",
    "**Note**: The Construct stage does not apply to this workflow. The PACE framework can be adapted to fit the specific requirements of any project.\n",
    "\n",
    "\n"
   ]
  },
  {
   "cell_type": "markdown",
   "metadata": {
    "id": "BMHV86A6zrQo"
   },
   "source": [
    "## **PACE: Execute**\n"
   ]
  },
  {
   "cell_type": "markdown",
   "metadata": {
    "id": "u3HxcMZgz6iW"
   },
   "source": [
    "### **Given your efforts, what can you summarize for Rosie Mae Bradshaw and the TikTok data team?**\n",
    "\n",
    "*Your answer should address TikTok's request for a summary that covers the following points:*\n",
    "\n",
    "*   What percentage of the data is comprised of claims and what percentage is comprised of opinions?\n",
    "*   What factors correlate with a video's claim status?\n",
    "*   What factors correlate with a video's engagement level?\n"
   ]
  },
  {
   "cell_type": "markdown",
   "metadata": {
    "id": "HPVfDMum_xYl"
   },
   "source": [
    "**Executive Summary for Rosie Mae Bradshaw and the TikTok Data Team**\n",
    "\n",
    "TikTok Data Analysis Project\n",
    "\n",
    "*Introduction:*\n",
    "As part of the exploratory data analysis (EDA) for TikTok's claims classification model project, we delved into understanding the provided dataset. This summary aims to provide key insights and findings that will guide the TikTok data team in their further analysis and decision-making processes.\n",
    "\n",
    "**Summary:**\n",
    "\n",
    "1. **Percentage of Data Composition:**\n",
    "   - Claims: Approximately 69.5% of the dataset consists of claim videos.\n",
    "   - Opinions: Around 30.5% of the dataset is comprised of opinion videos.\n",
    "\n",
    "2. **Factors Correlating with Video Claim Status:**\n",
    "   - **Author Ban Status:**\n",
    "     - Claim videos are primarily from active authors, with a significant number coming from authors under review.\n",
    "     - Banned authors contribute to a smaller proportion of claim videos.\n",
    "   - **Engagement Metrics:**\n",
    "     - Claim videos, on average, have higher engagement metrics (views, likes, shares) compared to opinion videos.\n",
    "\n",
    "3. **Factors Correlating with Video Engagement Level:**\n",
    "   - **Author Ban Status:**\n",
    "     - Banned authors tend to have higher median engagement metrics (views, likes, shares) compared to active authors.\n",
    "   - **Claim Status:**\n",
    "     - Claim videos generally exhibit higher engagement metrics than opinion videos.\n",
    "   - **Likes, Comments, and Shares per View:**\n",
    "     - Claim videos, on average, have higher rates of likes, comments, and shares per view compared to opinion videos.\n",
    "\n",
    "It is crucial to note that further analysis and exploration are needed to understand the content and context of videos, especially those with high engagement from banned authors. Additionally, these findings provide insights for TikTok's data team to refine strategies for content moderation, user engagement, and platform dynamics.\n"
   ]
  },
  {
   "cell_type": "code",
   "execution_count": 16,
   "metadata": {},
   "outputs": [
    {
     "data": {
      "image/png": "[encoded data removed]",
      "text/plain": [
       "<Figure size 640x480 with 1 Axes>"
      ]
     },
     "metadata": {},
     "output_type": "display_data"
    }
   ],
   "source": [
    "import matplotlib.pyplot as plt\n",
    "from matplotlib.colors import LinearSegmentedColormap\n",
    "\n",
    "# Data\n",
    "labels = ['Claim', 'Opinion']\n",
    "sizes = [9608, 9476]\n",
    "colors = ['blue', 'orange']\n",
    "explode = (0.1, 0) # Explode the 1st slice (Claim) for emphasis\n",
    "\n",
    "# Plotting\n",
    "fig, ax = plt.subplots()\n",
    "ax.pie(sizes, labels=labels, colors=colors, autopct='%1.1f%%', startangle=90, textprops={'color':'white', 'weight': 'bold'})\n",
    "ax.axis('equal') # Equal aspect ratio ensure that pie is drawn as a circle\n",
    "\n",
    "# Adding labels 'Claim' and 'Opinion' outside the pie chart\n",
    "ax.text(1.2, 0.5, 'Claim', ha='center', va='center', fontsize=12, color='black', rotation=0)\n",
    "ax.text(-1.2, 0.5, 'Opinion', ha='center', va='center', fontsize=12, color='black', rotation=0)\n",
    "\n",
    "# Adding a title\n",
    "plt.title('Distribution of Claim and Opinion Videos', fontweight='bold')\n",
    "\n",
    "# Display the plot\n",
    "plt.show()"
   ]
  },
  {
   "cell_type": "code",
   "execution_count": null,
   "metadata": {},
   "outputs": [],
   "source": []
  }
 ],
 "metadata": {
  "colab": {
   "provenance": []
  },
  "kernelspec": {
   "display_name": "Python 3 (ipykernel)",
   "language": "python",
   "name": "python3"
  },
  "language_info": {
   "codemirror_mode": {
    "name": "ipython",
    "version": 3
   },
   "file_extension": ".py",
   "mimetype": "text/x-python",
   "name": "python",
   "nbconvert_exporter": "python",
   "pygments_lexer": "ipython3",
   "version": "3.8.19"
  }
 },
 "nbformat": 4,
 "nbformat_minor": 4
}
